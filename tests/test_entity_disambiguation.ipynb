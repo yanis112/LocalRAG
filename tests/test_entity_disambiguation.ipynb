{
 "cells": [
  {
   "cell_type": "code",
   "execution_count": 1,
   "metadata": {},
   "outputs": [],
   "source": [
    "from thefuzz import fuzz"
   ]
  },
  {
   "cell_type": "code",
   "execution_count": 22,
   "metadata": {},
   "outputs": [],
   "source": [
    "entity1= 'Euranova'\n",
    "entity2= 'euranova marseille'\n",
    "entity3= 'euranova'\n",
    "entity4='Aziz Jedidi'\n",
    "entity5= 'aziz jedidi'\n",
    "entity6= 'aziz'\n"
   ]
  },
  {
   "cell_type": "code",
   "execution_count": 23,
   "metadata": {},
   "outputs": [
    {
     "name": "stdout",
     "output_type": "stream",
     "text": [
      "[[ 0.02250259 -0.07829171 -0.02303073 ... -0.0082793   0.02652684\n",
      "  -0.00201897]\n",
      " [ 0.04170233  0.00109743 -0.0155342  ... -0.0218163  -0.06359359\n",
      "  -0.00875288]]\n"
     ]
    }
   ],
   "source": [
    "from sentence_transformers import SentenceTransformer\n",
    "sentences = [\"This is an example sentence\", \"Each sentence is converted\"]\n",
    "\n",
    "model = SentenceTransformer('sentence-transformers/all-mpnet-base-v2')\n",
    "embeddings = model.encode(sentences)\n",
    "print(embeddings)\n"
   ]
  },
  {
   "cell_type": "code",
   "execution_count": 24,
   "metadata": {},
   "outputs": [],
   "source": [
    "from sklearn.metrics.pairwise import cosine_similarity\n",
    "\n",
    "def cosine_sim_entity(e1, e2):\n",
    "    \"\"\"\n",
    "    Compute cosine similarity between two entities embeddings.\n",
    "    \"\"\"\n",
    "    # Assuming `model` is defined elsewhere and has an `encode` method\n",
    "    e1_embedding = model.encode(e1).reshape(1, -1)  # Reshape to 2D array\n",
    "    e2_embedding = model.encode(e2).reshape(1, -1)  # Reshape to 2D array\n",
    "    \n",
    "    # Compute cosine similarity between e1 and e2 embeddings\n",
    "    return cosine_similarity(e1_embedding, e2_embedding)[0][0]"
   ]
  },
  {
   "cell_type": "code",
   "execution_count": 26,
   "metadata": {},
   "outputs": [
    {
     "name": "stdout",
     "output_type": "stream",
     "text": [
      "0.5863608\n",
      "1.0000001\n",
      "1.0000001\n",
      "0.7765436\n"
     ]
    }
   ],
   "source": [
    "#compute cosine similarity between two entities\n",
    "print(cosine_sim_entity(entity1,entity2))\n",
    "#compute cosine similarity between two entities\n",
    "print(cosine_sim_entity(entity1,entity3))\n",
    "\n",
    "#compute cosine similarity between two entities\n",
    "print(cosine_sim_entity(entity4,entity5))\n",
    "#compute cosine similarity between two entities\n",
    "print(cosine_sim_entity(entity4,entity6))"
   ]
  },
  {
   "cell_type": "code",
   "execution_count": 21,
   "metadata": {},
   "outputs": [
    {
     "name": "stdout",
     "output_type": "stream",
     "text": [
      "100\n",
      "100\n"
     ]
    }
   ],
   "source": [
    "ratio=fuzz.token_set_ratio(entity1, entity2)\n",
    "ratio2=fuzz.token_set_ratio(entity1, entity3)\n",
    "print(ratio)\n",
    "print(ratio2)"
   ]
  }
 ],
 "metadata": {
  "kernelspec": {
   "display_name": "llms-rag-enx-6WuzWm9Q-py3.10",
   "language": "python",
   "name": "python3"
  },
  "language_info": {
   "codemirror_mode": {
    "name": "ipython",
    "version": 3
   },
   "file_extension": ".py",
   "mimetype": "text/x-python",
   "name": "python",
   "nbconvert_exporter": "python",
   "pygments_lexer": "ipython3",
   "version": "3.10.12"
  }
 },
 "nbformat": 4,
 "nbformat_minor": 2
}
