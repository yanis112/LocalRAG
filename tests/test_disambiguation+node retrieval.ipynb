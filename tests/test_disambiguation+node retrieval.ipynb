{
 "cells": [
  {
   "cell_type": "markdown",
   "metadata": {},
   "source": [
    "# Import Required Libraries and Modules\n",
    "Import necessary libraries including os, time, tqdm, and specific modules from the project."
   ]
  },
  {
   "cell_type": "code",
   "execution_count": 1,
   "metadata": {},
   "outputs": [
    {
     "name": "stdout",
     "output_type": "stream",
     "text": [
      "/home/user/llms\n"
     ]
    },
    {
     "name": "stderr",
     "output_type": "stream",
     "text": [
      "/home/user/.cache/pypoetry/virtualenvs/llms-rag-enx-6WuzWm9Q-py3.10/lib/python3.10/site-packages/IPython/core/magics/osm.py:417: UserWarning: This is now an optional IPython functionality, setting dhist requires you to install the `pickleshare` library.\n",
      "  self.shell.db['dhist'] = compress_dhist(dhist)[-100:]\n"
     ]
    }
   ],
   "source": [
    "%cd .."
   ]
  },
  {
   "cell_type": "code",
   "execution_count": 2,
   "metadata": {},
   "outputs": [
    {
     "name": "stdout",
     "output_type": "stream",
     "text": [
      "/home/user/llms\n"
     ]
    }
   ],
   "source": [
    "#print cwd\n",
    "import os\n",
    "print(os.getcwd())"
   ]
  },
  {
   "cell_type": "code",
   "execution_count": 3,
   "metadata": {},
   "outputs": [
    {
     "name": "stderr",
     "output_type": "stream",
     "text": [
      "/home/user/.cache/pypoetry/virtualenvs/llms-rag-enx-6WuzWm9Q-py3.10/lib/python3.10/site-packages/tqdm/auto.py:21: TqdmWarning: IProgress not found. Please update jupyter and ipywidgets. See https://ipywidgets.readthedocs.io/en/stable/user_install.html\n",
      "  from .autonotebook import tqdm as notebook_tqdm\n"
     ]
    }
   ],
   "source": [
    "import os\n",
    "import time\n",
    "from tqdm import tqdm\n",
    "from src.knowledge_graph import KnowledgeGraphBuilder, KnowledgeGraphIndex\n",
    "from src.retrieval_utils import find_loader\n",
    "from src.generation_utils import LLM_answer\n",
    "from langchain_core.documents import Document"
   ]
  },
  {
   "cell_type": "markdown",
   "metadata": {},
   "source": [
    "# Load and Process Documents\n",
    "Load documents from a specified folder, process them to extract text, and split the text into chunks."
   ]
  },
  {
   "cell_type": "code",
   "execution_count": 4,
   "metadata": {},
   "outputs": [
    {
     "name": "stdout",
     "output_type": "stream",
     "text": [
      "[\"Dialogue_du_28_June_2023_sur_la_plateforme_Mattermost_dans_la_channel_'ENX_@_FR'.md\", \"Dialogue_du_12_April_2021_sur_la_plateforme_Mattermost_dans_la_channel_'ENX_@_FR'.md\", \"Dialogue_du_19_October_2023_sur_la_plateforme_Mattermost_dans_la_channel_'ENX_@_FR'.md\", \"Dialogue_du_12_June_2023_sur_la_plateforme_Mattermost_dans_la_channel_'ENX_@_FR'.md\", \"Dialogue_du_19_November_2021_sur_la_plateforme_Mattermost_dans_la_channel_'ENX_@_FR'.md\", \"Dialogue_du_29_September_2022_sur_la_plateforme_Mattermost_dans_la_channel_'ENX_@_FR'.md\", \"Dialogue_du_25_March_2024_sur_la_plateforme_Mattermost_dans_la_channel_'ENX_@_FR'.md\", \"Dialogue_du_09_June_2022_sur_la_plateforme_Mattermost_dans_la_channel_'ENX_@_FR'.md\", \"Dialogue_du_09_February_2023_sur_la_plateforme_Mattermost_dans_la_channel_'ENX_@_FR'.md\", \"Dialogue_du_11_September_2023_sur_la_plateforme_Mattermost_dans_la_channel_'ENX_@_FR'.md\", \"Dialogue_du_24_October_2023_sur_la_plateforme_Mattermost_dans_la_channel_'ENX_@_FR'.md\", \"Dialogue_du_07_April_2021_sur_la_plateforme_Mattermost_dans_la_channel_'ENX_@_FR'.md\", \"Dialogue_du_24_November_2022_sur_la_plateforme_Mattermost_dans_la_channel_'ENX_@_FR'.md\", \"Dialogue_du_14_April_2023_sur_la_plateforme_Mattermost_dans_la_channel_'ENX_@_FR'.md\", \"Dialogue_du_27_November_2020_sur_la_plateforme_Mattermost_dans_la_channel_'ENX_@_FR'.md\", \"Dialogue_du_16_June_2022_sur_la_plateforme_Mattermost_dans_la_channel_'ENX_@_FR'.md\", \"Dialogue_du_15_September_2021_sur_la_plateforme_Mattermost_dans_la_channel_'ENX_@_FR'.md\", \"Dialogue_du_04_March_2024_sur_la_plateforme_Mattermost_dans_la_channel_'ENX_@_FR'.md\", \"Dialogue_du_28_September_2022_sur_la_plateforme_Mattermost_dans_la_channel_'ENX_@_FR'.md\", \"Dialogue_du_04_June_2024_sur_la_plateforme_Mattermost_dans_la_channel_'ENX_@_FR'.md\", \"Dialogue_du_27_June_2024_sur_la_plateforme_Mattermost_dans_la_channel_'ENX_@_FR'.md\", \"Dialogue_du_16_February_2024_sur_la_plateforme_Mattermost_dans_la_channel_'ENX_@_FR'.md\", \"Dialogue_du_23_May_2023_sur_la_plateforme_Mattermost_dans_la_channel_'ENX_@_FR'.md\", \"Dialogue_du_25_May_2021_sur_la_plateforme_Mattermost_dans_la_channel_'ENX_@_FR'.md\", \"Dialogue_du_04_January_2022_sur_la_plateforme_Mattermost_dans_la_channel_'ENX_@_FR'.md\", \"Dialogue_du_14_November_2022_sur_la_plateforme_Mattermost_dans_la_channel_'ENX_@_FR'.md\", \"Dialogue_du_26_August_2020_sur_la_plateforme_Mattermost_dans_la_channel_'ENX_@_FR'.md\", \"Dialogue_du_01_February_2022_sur_la_plateforme_Mattermost_dans_la_channel_'ENX_@_FR'.md\", \"Dialogue_du_04_September_2020_sur_la_plateforme_Mattermost_dans_la_channel_'ENX_@_FR'.md\", \"Dialogue_du_21_September_2020_sur_la_plateforme_Mattermost_dans_la_channel_'ENX_@_FR'.md\", \"Dialogue_du_13_December_2022_sur_la_plateforme_Mattermost_dans_la_channel_'ENX_@_FR'.md\", \"Dialogue_du_17_May_2022_sur_la_plateforme_Mattermost_dans_la_channel_'ENX_@_FR'.md\", \"Dialogue_du_22_August_2023_sur_la_plateforme_Mattermost_dans_la_channel_'ENX_@_FR'.md\", \"Dialogue_du_08_February_2024_sur_la_plateforme_Mattermost_dans_la_channel_'ENX_@_FR'.md\", \"Dialogue_du_26_April_2021_sur_la_plateforme_Mattermost_dans_la_channel_'ENX_@_FR'.md\", \"Dialogue_du_20_October_2023_sur_la_plateforme_Mattermost_dans_la_channel_'ENX_@_FR'.md\", \"Dialogue_du_05_September_2023_sur_la_plateforme_Mattermost_dans_la_channel_'ENX_@_FR'.md\", \"Dialogue_du_17_December_2021_sur_la_plateforme_Mattermost_dans_la_channel_'ENX_@_FR'.md\", \"Dialogue_du_18_May_2022_sur_la_plateforme_Mattermost_dans_la_channel_'ENX_@_FR'.md\", \"Dialogue_du_24_March_2022_sur_la_plateforme_Mattermost_dans_la_channel_'ENX_@_FR'.md\", \"Dialogue_du_13_November_2023_sur_la_plateforme_Mattermost_dans_la_channel_'ENX_@_FR'.md\", \"Dialogue_du_28_January_2024_sur_la_plateforme_Mattermost_dans_la_channel_'ENX_@_FR'.md\", \"Dialogue_du_30_November_2023_sur_la_plateforme_Mattermost_dans_la_channel_'ENX_@_FR'.md\", \"Dialogue_du_22_March_2023_sur_la_plateforme_Mattermost_dans_la_channel_'ENX_@_FR'.md\", \"Dialogue_du_14_November_2023_sur_la_plateforme_Mattermost_dans_la_channel_'ENX_@_FR'.md\", \"Dialogue_du_23_June_2021_sur_la_plateforme_Mattermost_dans_la_channel_'ENX_@_FR'.md\", \"Dialogue_du_03_October_2021_sur_la_plateforme_Mattermost_dans_la_channel_'ENX_@_FR'.md\", \"Dialogue_du_05_May_2022_sur_la_plateforme_Mattermost_dans_la_channel_'ENX_@_FR'.md\", \"Dialogue_du_04_September_2023_sur_la_plateforme_Mattermost_dans_la_channel_'ENX_@_FR'.md\", \"Dialogue_du_04_October_2023_sur_la_plateforme_Mattermost_dans_la_channel_'ENX_@_FR'.md\", \"Dialogue_du_09_March_2022_sur_la_plateforme_Mattermost_dans_la_channel_'ENX_@_FR'.md\", \"Dialogue_du_11_July_2023_sur_la_plateforme_Mattermost_dans_la_channel_'ENX_@_FR'.md\", \"Dialogue_du_11_December_2020_sur_la_plateforme_Mattermost_dans_la_channel_'ENX_@_FR'.md\", \"Dialogue_du_05_July_2022_sur_la_plateforme_Mattermost_dans_la_channel_'ENX_@_FR'.md\", \"Dialogue_du_21_January_2021_sur_la_plateforme_Mattermost_dans_la_channel_'ENX_@_FR'.md\", \"Dialogue_du_02_December_2020_sur_la_plateforme_Mattermost_dans_la_channel_'ENX_@_FR'.md\", \"Dialogue_du_16_February_2021_sur_la_plateforme_Mattermost_dans_la_channel_'ENX_@_FR'.md\", \"Dialogue_du_30_March_2021_sur_la_plateforme_Mattermost_dans_la_channel_'ENX_@_FR'.md\", \"Dialogue_du_06_July_2023_sur_la_plateforme_Mattermost_dans_la_channel_'ENX_@_FR'.md\", \"Dialogue_du_28_June_2022_sur_la_plateforme_Mattermost_dans_la_channel_'ENX_@_FR'.md\", \"Dialogue_du_24_May_2024_sur_la_plateforme_Mattermost_dans_la_channel_'ENX_@_FR'.md\", \"Dialogue_du_02_February_2023_sur_la_plateforme_Mattermost_dans_la_channel_'ENX_@_FR'.md\", \"Dialogue_du_06_October_2022_sur_la_plateforme_Mattermost_dans_la_channel_'ENX_@_FR'.md\", \"Dialogue_du_25_June_2021_sur_la_plateforme_Mattermost_dans_la_channel_'ENX_@_FR'.md\", \"Dialogue_du_24_June_2021_sur_la_plateforme_Mattermost_dans_la_channel_'ENX_@_FR'.md\", \"Dialogue_du_13_September_2023_sur_la_plateforme_Mattermost_dans_la_channel_'ENX_@_FR'.md\", \"Dialogue_du_05_March_2021_sur_la_plateforme_Mattermost_dans_la_channel_'ENX_@_FR'.md\", \"Dialogue_du_13_January_2021_sur_la_plateforme_Mattermost_dans_la_channel_'ENX_@_FR'.md\", \"Dialogue_du_19_July_2023_sur_la_plateforme_Mattermost_dans_la_channel_'ENX_@_FR'.md\", \"Dialogue_du_21_October_2022_sur_la_plateforme_Mattermost_dans_la_channel_'ENX_@_FR'.md\", \"Dialogue_du_24_November_2020_sur_la_plateforme_Mattermost_dans_la_channel_'ENX_@_FR'.md\", \"Dialogue_du_12_February_2021_sur_la_plateforme_Mattermost_dans_la_channel_'ENX_@_FR'.md\", \"Dialogue_du_02_August_2021_sur_la_plateforme_Mattermost_dans_la_channel_'ENX_@_FR'.md\", \"Dialogue_du_03_February_2022_sur_la_plateforme_Mattermost_dans_la_channel_'ENX_@_FR'.md\", \"Dialogue_du_26_March_2024_sur_la_plateforme_Mattermost_dans_la_channel_'ENX_@_FR'.md\", \"Dialogue_du_19_December_2022_sur_la_plateforme_Mattermost_dans_la_channel_'ENX_@_FR'.md\", \"Dialogue_du_17_March_2023_sur_la_plateforme_Mattermost_dans_la_channel_'ENX_@_FR'.md\", \"Dialogue_du_02_September_2022_sur_la_plateforme_Mattermost_dans_la_channel_'ENX_@_FR'.md\", \"Dialogue_du_25_September_2023_sur_la_plateforme_Mattermost_dans_la_channel_'ENX_@_FR'.md\", \"Dialogue_du_09_February_2021_sur_la_plateforme_Mattermost_dans_la_channel_'ENX_@_FR'.md\", \"Dialogue_du_08_April_2021_sur_la_plateforme_Mattermost_dans_la_channel_'ENX_@_FR'.md\", \"Dialogue_du_03_February_2023_sur_la_plateforme_Mattermost_dans_la_channel_'ENX_@_FR'.md\", \"Dialogue_du_03_January_2023_sur_la_plateforme_Mattermost_dans_la_channel_'ENX_@_FR'.md\", \"Dialogue_du_24_February_2022_sur_la_plateforme_Mattermost_dans_la_channel_'ENX_@_FR'.md\", \"Dialogue_du_26_May_2021_sur_la_plateforme_Mattermost_dans_la_channel_'ENX_@_FR'.md\", \"Dialogue_du_16_August_2021_sur_la_plateforme_Mattermost_dans_la_channel_'ENX_@_FR'.md\", \"Dialogue_du_06_September_2022_sur_la_plateforme_Mattermost_dans_la_channel_'ENX_@_FR'.md\", \"Dialogue_du_30_August_2022_sur_la_plateforme_Mattermost_dans_la_channel_'ENX_@_FR'.md\", \"Dialogue_du_15_June_2021_sur_la_plateforme_Mattermost_dans_la_channel_'ENX_@_FR'.md\", \"Dialogue_du_09_May_2022_sur_la_plateforme_Mattermost_dans_la_channel_'ENX_@_FR'.md\", \"Dialogue_du_26_April_2022_sur_la_plateforme_Mattermost_dans_la_channel_'ENX_@_FR'.md\", \"Dialogue_du_25_March_2022_sur_la_plateforme_Mattermost_dans_la_channel_'ENX_@_FR'.md\", \"Dialogue_du_08_August_2023_sur_la_plateforme_Mattermost_dans_la_channel_'ENX_@_FR'.md\", \"Dialogue_du_18_February_2021_sur_la_plateforme_Mattermost_dans_la_channel_'ENX_@_FR'.md\", \"Dialogue_du_15_December_2020_sur_la_plateforme_Mattermost_dans_la_channel_'ENX_@_FR'.md\", \"Dialogue_du_10_January_2022_sur_la_plateforme_Mattermost_dans_la_channel_'ENX_@_FR'.md\", \"Dialogue_du_10_August_2023_sur_la_plateforme_Mattermost_dans_la_channel_'ENX_@_FR'.md\", \"Dialogue_du_02_May_2024_sur_la_plateforme_Mattermost_dans_la_channel_'ENX_@_FR'.md\", \"Dialogue_du_07_June_2022_sur_la_plateforme_Mattermost_dans_la_channel_'ENX_@_FR'.md\", \"Dialogue_du_19_April_2023_sur_la_plateforme_Mattermost_dans_la_channel_'ENX_@_FR'.md\", \"Dialogue_du_09_November_2021_sur_la_plateforme_Mattermost_dans_la_channel_'ENX_@_FR'.md\", \"Dialogue_du_02_September_2020_sur_la_plateforme_Mattermost_dans_la_channel_'ENX_@_FR'.md\", \"Dialogue_du_01_September_2021_sur_la_plateforme_Mattermost_dans_la_channel_'ENX_@_FR'.md\", \"Dialogue_du_03_August_2023_sur_la_plateforme_Mattermost_dans_la_channel_'ENX_@_FR'.md\", \"Dialogue_du_20_July_2023_sur_la_plateforme_Mattermost_dans_la_channel_'ENX_@_FR'.md\", \"Dialogue_du_02_June_2021_sur_la_plateforme_Mattermost_dans_la_channel_'ENX_@_FR'.md\", \"Dialogue_du_29_July_2022_sur_la_plateforme_Mattermost_dans_la_channel_'ENX_@_FR'.md\", \"Dialogue_du_31_January_2024_sur_la_plateforme_Mattermost_dans_la_channel_'ENX_@_FR'.md\", \"Dialogue_du_28_March_2023_sur_la_plateforme_Mattermost_dans_la_channel_'ENX_@_FR'.md\", \"Dialogue_du_21_March_2023_sur_la_plateforme_Mattermost_dans_la_channel_'ENX_@_FR'.md\", \"Dialogue_du_15_June_2022_sur_la_plateforme_Mattermost_dans_la_channel_'ENX_@_FR'.md\", \"Dialogue_du_28_May_2024_sur_la_plateforme_Mattermost_dans_la_channel_'ENX_@_FR'.md\", \"Dialogue_du_20_December_2022_sur_la_plateforme_Mattermost_dans_la_channel_'ENX_@_FR'.md\", \"Dialogue_du_20_April_2023_sur_la_plateforme_Mattermost_dans_la_channel_'ENX_@_FR'.md\", \"Dialogue_du_13_April_2023_sur_la_plateforme_Mattermost_dans_la_channel_'ENX_@_FR'.md\", \"Dialogue_du_23_May_2024_sur_la_plateforme_Mattermost_dans_la_channel_'ENX_@_FR'.md\", \"Dialogue_du_27_July_2021_sur_la_plateforme_Mattermost_dans_la_channel_'ENX_@_FR'.md\", \"Dialogue_du_01_June_2023_sur_la_plateforme_Mattermost_dans_la_channel_'ENX_@_FR'.md\", \"Dialogue_du_30_March_2023_sur_la_plateforme_Mattermost_dans_la_channel_'ENX_@_FR'.md\", \"Dialogue_du_05_February_2024_sur_la_plateforme_Mattermost_dans_la_channel_'ENX_@_FR'.md\", \"Dialogue_du_21_September_2022_sur_la_plateforme_Mattermost_dans_la_channel_'ENX_@_FR'.md\", \"Dialogue_du_14_September_2021_sur_la_plateforme_Mattermost_dans_la_channel_'ENX_@_FR'.md\", \"Dialogue_du_11_April_2023_sur_la_plateforme_Mattermost_dans_la_channel_'ENX_@_FR'.md\", \"Dialogue_du_21_January_2022_sur_la_plateforme_Mattermost_dans_la_channel_'ENX_@_FR'.md\", \"Dialogue_du_15_November_2021_sur_la_plateforme_Mattermost_dans_la_channel_'ENX_@_FR'.md\", \"Dialogue_du_27_May_2024_sur_la_plateforme_Mattermost_dans_la_channel_'ENX_@_FR'.md\", \"Dialogue_du_03_October_2022_sur_la_plateforme_Mattermost_dans_la_channel_'ENX_@_FR'.md\", \"Dialogue_du_01_August_2023_sur_la_plateforme_Mattermost_dans_la_channel_'ENX_@_FR'.md\", \"Dialogue_du_24_June_2022_sur_la_plateforme_Mattermost_dans_la_channel_'ENX_@_FR'.md\", \"Dialogue_du_08_March_2021_sur_la_plateforme_Mattermost_dans_la_channel_'ENX_@_FR'.md\", \"Dialogue_du_21_February_2023_sur_la_plateforme_Mattermost_dans_la_channel_'ENX_@_FR'.md\", \"Dialogue_du_14_February_2023_sur_la_plateforme_Mattermost_dans_la_channel_'ENX_@_FR'.md\", \"Dialogue_du_28_November_2023_sur_la_plateforme_Mattermost_dans_la_channel_'ENX_@_FR'.md\", \"Dialogue_du_05_August_2021_sur_la_plateforme_Mattermost_dans_la_channel_'ENX_@_FR'.md\", \"Dialogue_du_04_July_2023_sur_la_plateforme_Mattermost_dans_la_channel_'ENX_@_FR'.md\", \"Dialogue_du_03_August_2022_sur_la_plateforme_Mattermost_dans_la_channel_'ENX_@_FR'.md\", \"Dialogue_du_16_September_2020_sur_la_plateforme_Mattermost_dans_la_channel_'ENX_@_FR'.md\", \"Dialogue_du_05_February_2021_sur_la_plateforme_Mattermost_dans_la_channel_'ENX_@_FR'.md\", \"Dialogue_du_04_January_2023_sur_la_plateforme_Mattermost_dans_la_channel_'ENX_@_FR'.md\", \"Dialogue_du_23_March_2021_sur_la_plateforme_Mattermost_dans_la_channel_'ENX_@_FR'.md\", \"Dialogue_du_10_February_2022_sur_la_plateforme_Mattermost_dans_la_channel_'ENX_@_FR'.md\", \"Dialogue_du_20_January_2023_sur_la_plateforme_Mattermost_dans_la_channel_'ENX_@_FR'.md\", \"Dialogue_du_15_December_2022_sur_la_plateforme_Mattermost_dans_la_channel_'ENX_@_FR'.md\", \"Dialogue_du_03_May_2022_sur_la_plateforme_Mattermost_dans_la_channel_'ENX_@_FR'.md\", \"Dialogue_du_28_February_2022_sur_la_plateforme_Mattermost_dans_la_channel_'ENX_@_FR'.md\", \"Dialogue_du_03_April_2023_sur_la_plateforme_Mattermost_dans_la_channel_'ENX_@_FR'.md\", \"Dialogue_du_04_December_2020_sur_la_plateforme_Mattermost_dans_la_channel_'ENX_@_FR'.md\", \"Dialogue_du_15_November_2022_sur_la_plateforme_Mattermost_dans_la_channel_'ENX_@_FR'.md\", \"Dialogue_du_27_June_2023_sur_la_plateforme_Mattermost_dans_la_channel_'ENX_@_FR'.md\", \"Dialogue_du_06_September_2023_sur_la_plateforme_Mattermost_dans_la_channel_'ENX_@_FR'.md\", \"Dialogue_du_24_January_2023_sur_la_plateforme_Mattermost_dans_la_channel_'ENX_@_FR'.md\", \"Dialogue_du_11_February_2022_sur_la_plateforme_Mattermost_dans_la_channel_'ENX_@_FR'.md\", \"Dialogue_du_07_March_2023_sur_la_plateforme_Mattermost_dans_la_channel_'ENX_@_FR'.md\", \"Dialogue_du_23_July_2021_sur_la_plateforme_Mattermost_dans_la_channel_'ENX_@_FR'.md\", \"Dialogue_du_18_November_2022_sur_la_plateforme_Mattermost_dans_la_channel_'ENX_@_FR'.md\", \"Dialogue_du_08_March_2022_sur_la_plateforme_Mattermost_dans_la_channel_'ENX_@_FR'.md\", \"Dialogue_du_28_August_2023_sur_la_plateforme_Mattermost_dans_la_channel_'ENX_@_FR'.md\", \"Dialogue_du_10_March_2021_sur_la_plateforme_Mattermost_dans_la_channel_'ENX_@_FR'.md\", \"Dialogue_du_02_January_2023_sur_la_plateforme_Mattermost_dans_la_channel_'ENX_@_FR'.md\", \"Dialogue_du_16_June_2023_sur_la_plateforme_Mattermost_dans_la_channel_'ENX_@_FR'.md\", \"Dialogue_du_22_August_2022_sur_la_plateforme_Mattermost_dans_la_channel_'ENX_@_FR'.md\", \"Dialogue_du_22_April_2024_sur_la_plateforme_Mattermost_dans_la_channel_'ENX_@_FR'.md\", \"Dialogue_du_04_December_2023_sur_la_plateforme_Mattermost_dans_la_channel_'ENX_@_FR'.md\", \"Dialogue_du_01_February_2024_sur_la_plateforme_Mattermost_dans_la_channel_'ENX_@_FR'.md\", \"Dialogue_du_02_June_2022_sur_la_plateforme_Mattermost_dans_la_channel_'ENX_@_FR'.md\", \"Dialogue_du_02_October_2023_sur_la_plateforme_Mattermost_dans_la_channel_'ENX_@_FR'.md\", \"Dialogue_du_02_November_2022_sur_la_plateforme_Mattermost_dans_la_channel_'ENX_@_FR'.md\", \"Dialogue_du_16_March_2022_sur_la_plateforme_Mattermost_dans_la_channel_'ENX_@_FR'.md\", \"Dialogue_du_28_February_2024_sur_la_plateforme_Mattermost_dans_la_channel_'ENX_@_FR'.md\", \"Dialogue_du_21_June_2024_sur_la_plateforme_Mattermost_dans_la_channel_'ENX_@_FR'.md\", \"Dialogue_du_13_March_2024_sur_la_plateforme_Mattermost_dans_la_channel_'ENX_@_FR'.md\", \"Dialogue_du_12_September_2023_sur_la_plateforme_Mattermost_dans_la_channel_'ENX_@_FR'.md\", \"Dialogue_du_20_February_2024_sur_la_plateforme_Mattermost_dans_la_channel_'ENX_@_FR'.md\", \"Dialogue_du_10_January_2023_sur_la_plateforme_Mattermost_dans_la_channel_'ENX_@_FR'.md\", \"Dialogue_du_13_April_2022_sur_la_plateforme_Mattermost_dans_la_channel_'ENX_@_FR'.md\", \"Dialogue_du_01_March_2023_sur_la_plateforme_Mattermost_dans_la_channel_'ENX_@_FR'.md\", \"Dialogue_du_18_February_2022_sur_la_plateforme_Mattermost_dans_la_channel_'ENX_@_FR'.md\", \"Dialogue_du_06_July_2022_sur_la_plateforme_Mattermost_dans_la_channel_'ENX_@_FR'.md\", \"Dialogue_du_15_October_2023_sur_la_plateforme_Mattermost_dans_la_channel_'ENX_@_FR'.md\", \"Dialogue_du_20_April_2022_sur_la_plateforme_Mattermost_dans_la_channel_'ENX_@_FR'.md\", \"Dialogue_du_19_December_2023_sur_la_plateforme_Mattermost_dans_la_channel_'ENX_@_FR'.md\", \"Dialogue_du_11_January_2022_sur_la_plateforme_Mattermost_dans_la_channel_'ENX_@_FR'.md\", \"Dialogue_du_30_July_2021_sur_la_plateforme_Mattermost_dans_la_channel_'ENX_@_FR'.md\", \"Dialogue_du_11_January_2024_sur_la_plateforme_Mattermost_dans_la_channel_'ENX_@_FR'.md\", \"Dialogue_du_09_December_2021_sur_la_plateforme_Mattermost_dans_la_channel_'ENX_@_FR'.md\", \"Dialogue_du_02_October_2021_sur_la_plateforme_Mattermost_dans_la_channel_'ENX_@_FR'.md\", \"Dialogue_du_31_March_2021_sur_la_plateforme_Mattermost_dans_la_channel_'ENX_@_FR'.md\", \"Dialogue_du_04_October_2022_sur_la_plateforme_Mattermost_dans_la_channel_'ENX_@_FR'.md\", \"Dialogue_du_21_July_2023_sur_la_plateforme_Mattermost_dans_la_channel_'ENX_@_FR'.md\", \"Dialogue_du_27_June_2022_sur_la_plateforme_Mattermost_dans_la_channel_'ENX_@_FR'.md\", \"Dialogue_du_19_February_2024_sur_la_plateforme_Mattermost_dans_la_channel_'ENX_@_FR'.md\", \"Dialogue_du_21_September_2021_sur_la_plateforme_Mattermost_dans_la_channel_'ENX_@_FR'.md\", \"Dialogue_du_04_February_2021_sur_la_plateforme_Mattermost_dans_la_channel_'ENX_@_FR'.md\", \"Dialogue_du_01_July_2022_sur_la_plateforme_Mattermost_dans_la_channel_'ENX_@_FR'.md\", \"Dialogue_du_24_January_2022_sur_la_plateforme_Mattermost_dans_la_channel_'ENX_@_FR'.md\", \"Dialogue_du_15_November_2023_sur_la_plateforme_Mattermost_dans_la_channel_'ENX_@_FR'.md\", \"Dialogue_du_07_June_2024_sur_la_plateforme_Mattermost_dans_la_channel_'ENX_@_FR'.md\", \"Dialogue_du_25_August_2021_sur_la_plateforme_Mattermost_dans_la_channel_'ENX_@_FR'.md\", \"Dialogue_du_26_April_2023_sur_la_plateforme_Mattermost_dans_la_channel_'ENX_@_FR'.md\", \"Dialogue_du_24_April_2023_sur_la_plateforme_Mattermost_dans_la_channel_'ENX_@_FR'.md\", \"Dialogue_du_14_June_2024_sur_la_plateforme_Mattermost_dans_la_channel_'ENX_@_FR'.md\", \"Dialogue_du_06_April_2023_sur_la_plateforme_Mattermost_dans_la_channel_'ENX_@_FR'.md\", \"Dialogue_du_16_January_2023_sur_la_plateforme_Mattermost_dans_la_channel_'ENX_@_FR'.md\", \"Dialogue_du_07_December_2020_sur_la_plateforme_Mattermost_dans_la_channel_'ENX_@_FR'.md\", \"Dialogue_du_06_November_2023_sur_la_plateforme_Mattermost_dans_la_channel_'ENX_@_FR'.md\", \"Dialogue_du_25_October_2023_sur_la_plateforme_Mattermost_dans_la_channel_'ENX_@_FR'.md\", \"Dialogue_du_14_June_2021_sur_la_plateforme_Mattermost_dans_la_channel_'ENX_@_FR'.md\", \"Dialogue_du_15_February_2023_sur_la_plateforme_Mattermost_dans_la_channel_'ENX_@_FR'.md\", \"Dialogue_du_08_July_2021_sur_la_plateforme_Mattermost_dans_la_channel_'ENX_@_FR'.md\", \"Dialogue_du_26_November_2020_sur_la_plateforme_Mattermost_dans_la_channel_'ENX_@_FR'.md\", \"Dialogue_du_31_May_2023_sur_la_plateforme_Mattermost_dans_la_channel_'ENX_@_FR'.md\", \"Dialogue_du_14_December_2021_sur_la_plateforme_Mattermost_dans_la_channel_'ENX_@_FR'.md\", \"Dialogue_du_17_April_2024_sur_la_plateforme_Mattermost_dans_la_channel_'ENX_@_FR'.md\", \"Dialogue_du_04_March_2022_sur_la_plateforme_Mattermost_dans_la_channel_'ENX_@_FR'.md\", \"Dialogue_du_11_February_2021_sur_la_plateforme_Mattermost_dans_la_channel_'ENX_@_FR'.md\", \"Dialogue_du_22_May_2023_sur_la_plateforme_Mattermost_dans_la_channel_'ENX_@_FR'.md\", \"Dialogue_du_20_September_2021_sur_la_plateforme_Mattermost_dans_la_channel_'ENX_@_FR'.md\", \"Dialogue_du_04_November_2021_sur_la_plateforme_Mattermost_dans_la_channel_'ENX_@_FR'.md\", \"Dialogue_du_27_October_2022_sur_la_plateforme_Mattermost_dans_la_channel_'ENX_@_FR'.md\", \"Dialogue_du_10_May_2024_sur_la_plateforme_Mattermost_dans_la_channel_'ENX_@_FR'.md\", \"Dialogue_du_11_January_2023_sur_la_plateforme_Mattermost_dans_la_channel_'ENX_@_FR'.md\", \"Dialogue_du_29_June_2021_sur_la_plateforme_Mattermost_dans_la_channel_'ENX_@_FR'.md\", \"Dialogue_du_22_November_2023_sur_la_plateforme_Mattermost_dans_la_channel_'ENX_@_FR'.md\", \"Dialogue_du_22_December_2022_sur_la_plateforme_Mattermost_dans_la_channel_'ENX_@_FR'.md\", \"Dialogue_du_27_January_2022_sur_la_plateforme_Mattermost_dans_la_channel_'ENX_@_FR'.md\", \"Dialogue_du_25_October_2021_sur_la_plateforme_Mattermost_dans_la_channel_'ENX_@_FR'.md\", \"Dialogue_du_05_October_2021_sur_la_plateforme_Mattermost_dans_la_channel_'ENX_@_FR'.md\", \"Dialogue_du_19_January_2022_sur_la_plateforme_Mattermost_dans_la_channel_'ENX_@_FR'.md\", \"Dialogue_du_28_January_2022_sur_la_plateforme_Mattermost_dans_la_channel_'ENX_@_FR'.md\", \"Dialogue_du_30_October_2023_sur_la_plateforme_Mattermost_dans_la_channel_'ENX_@_FR'.md\", \"Dialogue_du_22_November_2021_sur_la_plateforme_Mattermost_dans_la_channel_'ENX_@_FR'.md\", \"Dialogue_du_23_August_2023_sur_la_plateforme_Mattermost_dans_la_channel_'ENX_@_FR'.md\", \"Dialogue_du_23_February_2024_sur_la_plateforme_Mattermost_dans_la_channel_'ENX_@_FR'.md\", \"Dialogue_du_23_October_2023_sur_la_plateforme_Mattermost_dans_la_channel_'ENX_@_FR'.md\", \"Dialogue_du_14_September_2023_sur_la_plateforme_Mattermost_dans_la_channel_'ENX_@_FR'.md\", \"Dialogue_du_17_January_2022_sur_la_plateforme_Mattermost_dans_la_channel_'ENX_@_FR'.md\", \"Dialogue_du_13_October_2022_sur_la_plateforme_Mattermost_dans_la_channel_'ENX_@_FR'.md\", \"Dialogue_du_18_January_2022_sur_la_plateforme_Mattermost_dans_la_channel_'ENX_@_FR'.md\", \"Dialogue_du_13_September_2022_sur_la_plateforme_Mattermost_dans_la_channel_'ENX_@_FR'.md\", \"Dialogue_du_02_February_2024_sur_la_plateforme_Mattermost_dans_la_channel_'ENX_@_FR'.md\", \"Dialogue_du_15_March_2021_sur_la_plateforme_Mattermost_dans_la_channel_'ENX_@_FR'.md\", \"Dialogue_du_20_October_2021_sur_la_plateforme_Mattermost_dans_la_channel_'ENX_@_FR'.md\", \"Dialogue_du_24_April_2019_sur_la_plateforme_Mattermost_dans_la_channel_'ENX_@_FR'.md\", \"Dialogue_du_18_January_2021_sur_la_plateforme_Mattermost_dans_la_channel_'ENX_@_FR'.md\", \"Dialogue_du_03_March_2021_sur_la_plateforme_Mattermost_dans_la_channel_'ENX_@_FR'.md\", \"Dialogue_du_04_June_2021_sur_la_plateforme_Mattermost_dans_la_channel_'ENX_@_FR'.md\", \"Dialogue_du_13_October_2023_sur_la_plateforme_Mattermost_dans_la_channel_'ENX_@_FR'.md\", \"Dialogue_du_26_April_2024_sur_la_plateforme_Mattermost_dans_la_channel_'ENX_@_FR'.md\", \"Dialogue_du_03_December_2021_sur_la_plateforme_Mattermost_dans_la_channel_'ENX_@_FR'.md\", \"Dialogue_du_18_April_2024_sur_la_plateforme_Mattermost_dans_la_channel_'ENX_@_FR'.md\", \"Dialogue_du_22_April_2021_sur_la_plateforme_Mattermost_dans_la_channel_'ENX_@_FR'.md\", \"Dialogue_du_27_January_2023_sur_la_plateforme_Mattermost_dans_la_channel_'ENX_@_FR'.md\", \"Dialogue_du_12_July_2023_sur_la_plateforme_Mattermost_dans_la_channel_'ENX_@_FR'.md\", \"Dialogue_du_08_February_2021_sur_la_plateforme_Mattermost_dans_la_channel_'ENX_@_FR'.md\", \"Dialogue_du_17_November_2022_sur_la_plateforme_Mattermost_dans_la_channel_'ENX_@_FR'.md\", \"Dialogue_du_13_February_2024_sur_la_plateforme_Mattermost_dans_la_channel_'ENX_@_FR'.md\", \"Dialogue_du_12_January_2022_sur_la_plateforme_Mattermost_dans_la_channel_'ENX_@_FR'.md\", \"Dialogue_du_23_November_2022_sur_la_plateforme_Mattermost_dans_la_channel_'ENX_@_FR'.md\", \"Dialogue_du_28_January_2021_sur_la_plateforme_Mattermost_dans_la_channel_'ENX_@_FR'.md\", \"Dialogue_du_08_March_2023_sur_la_plateforme_Mattermost_dans_la_channel_'ENX_@_FR'.md\", \"Dialogue_du_29_June_2023_sur_la_plateforme_Mattermost_dans_la_channel_'ENX_@_FR'.md\", \"Dialogue_du_25_November_2022_sur_la_plateforme_Mattermost_dans_la_channel_'ENX_@_FR'.md\", \"Dialogue_du_21_December_2022_sur_la_plateforme_Mattermost_dans_la_channel_'ENX_@_FR'.md\", \"Dialogue_du_22_June_2023_sur_la_plateforme_Mattermost_dans_la_channel_'ENX_@_FR'.md\", \"Dialogue_du_03_September_2021_sur_la_plateforme_Mattermost_dans_la_channel_'ENX_@_FR'.md\", \"Dialogue_du_30_May_2022_sur_la_plateforme_Mattermost_dans_la_channel_'ENX_@_FR'.md\", \"Dialogue_du_22_January_2024_sur_la_plateforme_Mattermost_dans_la_channel_'ENX_@_FR'.md\", \"Dialogue_du_26_August_2022_sur_la_plateforme_Mattermost_dans_la_channel_'ENX_@_FR'.md\", \"Dialogue_du_21_February_2022_sur_la_plateforme_Mattermost_dans_la_channel_'ENX_@_FR'.md\", \"Dialogue_du_01_June_2021_sur_la_plateforme_Mattermost_dans_la_channel_'ENX_@_FR'.md\", \"Dialogue_du_13_March_2023_sur_la_plateforme_Mattermost_dans_la_channel_'ENX_@_FR'.md\", \"Dialogue_du_08_November_2023_sur_la_plateforme_Mattermost_dans_la_channel_'ENX_@_FR'.md\", \"Dialogue_du_30_August_2021_sur_la_plateforme_Mattermost_dans_la_channel_'ENX_@_FR'.md\", \"Dialogue_du_19_January_2021_sur_la_plateforme_Mattermost_dans_la_channel_'ENX_@_FR'.md\", \"Dialogue_du_17_March_2022_sur_la_plateforme_Mattermost_dans_la_channel_'ENX_@_FR'.md\", \"Dialogue_du_15_March_2023_sur_la_plateforme_Mattermost_dans_la_channel_'ENX_@_FR'.md\", \"Dialogue_du_18_December_2020_sur_la_plateforme_Mattermost_dans_la_channel_'ENX_@_FR'.md\", \"Dialogue_du_12_March_2021_sur_la_plateforme_Mattermost_dans_la_channel_'ENX_@_FR'.md\", \"Dialogue_du_03_June_2024_sur_la_plateforme_Mattermost_dans_la_channel_'ENX_@_FR'.md\", \"Dialogue_du_02_December_2021_sur_la_plateforme_Mattermost_dans_la_channel_'ENX_@_FR'.md\", \"Dialogue_du_07_December_2021_sur_la_plateforme_Mattermost_dans_la_channel_'ENX_@_FR'.md\", \"Dialogue_du_25_May_2023_sur_la_plateforme_Mattermost_dans_la_channel_'ENX_@_FR'.md\", \"Dialogue_du_02_December_2022_sur_la_plateforme_Mattermost_dans_la_channel_'ENX_@_FR'.md\", \"Dialogue_du_09_December_2020_sur_la_plateforme_Mattermost_dans_la_channel_'ENX_@_FR'.md\", \"Dialogue_du_10_September_2021_sur_la_plateforme_Mattermost_dans_la_channel_'ENX_@_FR'.md\", \"Dialogue_du_26_October_2021_sur_la_plateforme_Mattermost_dans_la_channel_'ENX_@_FR'.md\", \"Dialogue_du_24_January_2024_sur_la_plateforme_Mattermost_dans_la_channel_'ENX_@_FR'.md\", \"Dialogue_du_18_June_2021_sur_la_plateforme_Mattermost_dans_la_channel_'ENX_@_FR'.md\", \"Dialogue_du_09_January_2023_sur_la_plateforme_Mattermost_dans_la_channel_'ENX_@_FR'.md\", \"Dialogue_du_09_October_2023_sur_la_plateforme_Mattermost_dans_la_channel_'ENX_@_FR'.md\", \"Dialogue_du_27_November_2023_sur_la_plateforme_Mattermost_dans_la_channel_'ENX_@_FR'.md\", \"Dialogue_du_06_December_2021_sur_la_plateforme_Mattermost_dans_la_channel_'ENX_@_FR'.md\", \"Dialogue_du_29_August_2023_sur_la_plateforme_Mattermost_dans_la_channel_'ENX_@_FR'.md\", \"Dialogue_du_13_June_2023_sur_la_plateforme_Mattermost_dans_la_channel_'ENX_@_FR'.md\", \"Dialogue_du_04_August_2023_sur_la_plateforme_Mattermost_dans_la_channel_'ENX_@_FR'.md\", \"Dialogue_du_29_September_2021_sur_la_plateforme_Mattermost_dans_la_channel_'ENX_@_FR'.md\", \"Dialogue_du_06_December_2023_sur_la_plateforme_Mattermost_dans_la_channel_'ENX_@_FR'.md\", \"Dialogue_du_24_February_2023_sur_la_plateforme_Mattermost_dans_la_channel_'ENX_@_FR'.md\", \"Dialogue_du_13_January_2023_sur_la_plateforme_Mattermost_dans_la_channel_'ENX_@_FR'.md\", \"Dialogue_du_27_January_2021_sur_la_plateforme_Mattermost_dans_la_channel_'ENX_@_FR'.md\", \"Dialogue_du_30_September_2022_sur_la_plateforme_Mattermost_dans_la_channel_'ENX_@_FR'.md\", \"Dialogue_du_14_January_2021_sur_la_plateforme_Mattermost_dans_la_channel_'ENX_@_FR'.md\", \"Dialogue_du_19_May_2021_sur_la_plateforme_Mattermost_dans_la_channel_'ENX_@_FR'.md\", \"Dialogue_du_14_May_2021_sur_la_plateforme_Mattermost_dans_la_channel_'ENX_@_FR'.md\", \"Dialogue_du_23_June_2022_sur_la_plateforme_Mattermost_dans_la_channel_'ENX_@_FR'.md\", \"Dialogue_du_31_May_2021_sur_la_plateforme_Mattermost_dans_la_channel_'ENX_@_FR'.md\", \"Dialogue_du_07_June_2023_sur_la_plateforme_Mattermost_dans_la_channel_'ENX_@_FR'.md\", \"Dialogue_du_22_January_2021_sur_la_plateforme_Mattermost_dans_la_channel_'ENX_@_FR'.md\", \"Dialogue_du_07_June_2019_sur_la_plateforme_Mattermost_dans_la_channel_'ENX_@_FR'.md\", \"Dialogue_du_30_December_2020_sur_la_plateforme_Mattermost_dans_la_channel_'ENX_@_FR'.md\", \"Dialogue_du_28_April_2023_sur_la_plateforme_Mattermost_dans_la_channel_'ENX_@_FR'.md\", \"Dialogue_du_12_June_2024_sur_la_plateforme_Mattermost_dans_la_channel_'ENX_@_FR'.md\", \"Dialogue_du_03_November_2022_sur_la_plateforme_Mattermost_dans_la_channel_'ENX_@_FR'.md\", \"Dialogue_du_10_November_2022_sur_la_plateforme_Mattermost_dans_la_channel_'ENX_@_FR'.md\", \"Dialogue_du_15_May_2024_sur_la_plateforme_Mattermost_dans_la_channel_'ENX_@_FR'.md\", \"Dialogue_du_23_November_2023_sur_la_plateforme_Mattermost_dans_la_channel_'ENX_@_FR'.md\", \"Dialogue_du_12_April_2022_sur_la_plateforme_Mattermost_dans_la_channel_'ENX_@_FR'.md\", \"Dialogue_du_13_February_2023_sur_la_plateforme_Mattermost_dans_la_channel_'ENX_@_FR'.md\", \"Dialogue_du_10_December_2021_sur_la_plateforme_Mattermost_dans_la_channel_'ENX_@_FR'.md\", \"Dialogue_du_11_June_2019_sur_la_plateforme_Mattermost_dans_la_channel_'ENX_@_FR'.md\", \"Dialogue_du_04_April_2022_sur_la_plateforme_Mattermost_dans_la_channel_'ENX_@_FR'.md\", \"Dialogue_du_21_February_2024_sur_la_plateforme_Mattermost_dans_la_channel_'ENX_@_FR'.md\", \"Dialogue_du_28_July_2020_sur_la_plateforme_Mattermost_dans_la_channel_'ENX_@_FR'.md\", \"Dialogue_du_27_September_2023_sur_la_plateforme_Mattermost_dans_la_channel_'ENX_@_FR'.md\", \"Dialogue_du_29_April_2024_sur_la_plateforme_Mattermost_dans_la_channel_'ENX_@_FR'.md\", \"Dialogue_du_29_April_2019_sur_la_plateforme_Mattermost_dans_la_channel_'ENX_@_FR'.md\", \"Dialogue_du_14_June_2022_sur_la_plateforme_Mattermost_dans_la_channel_'ENX_@_FR'.md\", \"Dialogue_du_17_January_2024_sur_la_plateforme_Mattermost_dans_la_channel_'ENX_@_FR'.md\", \"Dialogue_du_30_January_2023_sur_la_plateforme_Mattermost_dans_la_channel_'ENX_@_FR'.md\", \"Dialogue_du_24_October_2022_sur_la_plateforme_Mattermost_dans_la_channel_'ENX_@_FR'.md\", \"Dialogue_du_07_October_2022_sur_la_plateforme_Mattermost_dans_la_channel_'ENX_@_FR'.md\", \"Dialogue_du_31_March_2023_sur_la_plateforme_Mattermost_dans_la_channel_'ENX_@_FR'.md\", \"Dialogue_du_20_December_2021_sur_la_plateforme_Mattermost_dans_la_channel_'ENX_@_FR'.md\", \"Dialogue_du_09_February_2024_sur_la_plateforme_Mattermost_dans_la_channel_'ENX_@_FR'.md\", \"Dialogue_du_01_December_2022_sur_la_plateforme_Mattermost_dans_la_channel_'ENX_@_FR'.md\", \"Dialogue_du_29_October_2021_sur_la_plateforme_Mattermost_dans_la_channel_'ENX_@_FR'.md\", \"Dialogue_du_13_June_2024_sur_la_plateforme_Mattermost_dans_la_channel_'ENX_@_FR'.md\", \"Dialogue_du_10_June_2022_sur_la_plateforme_Mattermost_dans_la_channel_'ENX_@_FR'.md\", \"Dialogue_du_13_December_2021_sur_la_plateforme_Mattermost_dans_la_channel_'ENX_@_FR'.md\", \"Dialogue_du_01_April_2021_sur_la_plateforme_Mattermost_dans_la_channel_'ENX_@_FR'.md\", \"Dialogue_du_03_January_2024_sur_la_plateforme_Mattermost_dans_la_channel_'ENX_@_FR'.md\", \"Dialogue_du_18_June_2024_sur_la_plateforme_Mattermost_dans_la_channel_'ENX_@_FR'.md\", \"Dialogue_du_11_October_2022_sur_la_plateforme_Mattermost_dans_la_channel_'ENX_@_FR'.md\", \"Dialogue_du_04_April_2023_sur_la_plateforme_Mattermost_dans_la_channel_'ENX_@_FR'.md\", \"Dialogue_du_16_September_2022_sur_la_plateforme_Mattermost_dans_la_channel_'ENX_@_FR'.md\", \"Dialogue_du_05_May_2021_sur_la_plateforme_Mattermost_dans_la_channel_'ENX_@_FR'.md\", \"Dialogue_du_28_June_2024_sur_la_plateforme_Mattermost_dans_la_channel_'ENX_@_FR'.md\", \"Dialogue_du_25_August_2020_sur_la_plateforme_Mattermost_dans_la_channel_'ENX_@_FR'.md\", \"Dialogue_du_19_January_2024_sur_la_plateforme_Mattermost_dans_la_channel_'ENX_@_FR'.md\", \"Dialogue_du_22_December_2020_sur_la_plateforme_Mattermost_dans_la_channel_'ENX_@_FR'.md\", \"Dialogue_du_16_February_2022_sur_la_plateforme_Mattermost_dans_la_channel_'ENX_@_FR'.md\", \"Dialogue_du_12_November_2020_sur_la_plateforme_Mattermost_dans_la_channel_'ENX_@_FR'.md\", \"Dialogue_du_07_February_2022_sur_la_plateforme_Mattermost_dans_la_channel_'ENX_@_FR'.md\", \"Dialogue_du_12_December_2022_sur_la_plateforme_Mattermost_dans_la_channel_'ENX_@_FR'.md\", \"Dialogue_du_25_May_2022_sur_la_plateforme_Mattermost_dans_la_channel_'ENX_@_FR'.md\", \"Dialogue_du_27_February_2023_sur_la_plateforme_Mattermost_dans_la_channel_'ENX_@_FR'.md\", \"Dialogue_du_18_March_2024_sur_la_plateforme_Mattermost_dans_la_channel_'ENX_@_FR'.md\", \"Dialogue_du_29_November_2023_sur_la_plateforme_Mattermost_dans_la_channel_'ENX_@_FR'.md\", \"Dialogue_du_14_October_2022_sur_la_plateforme_Mattermost_dans_la_channel_'ENX_@_FR'.md\", \"Dialogue_du_20_June_2023_sur_la_plateforme_Mattermost_dans_la_channel_'ENX_@_FR'.md\", \"Dialogue_du_04_November_2022_sur_la_plateforme_Mattermost_dans_la_channel_'ENX_@_FR'.md\", \"Dialogue_du_26_August_2021_sur_la_plateforme_Mattermost_dans_la_channel_'ENX_@_FR'.md\", \"Dialogue_du_05_January_2024_sur_la_plateforme_Mattermost_dans_la_channel_'ENX_@_FR'.md\", \"Dialogue_du_20_November_2020_sur_la_plateforme_Mattermost_dans_la_channel_'ENX_@_FR'.md\", \"Dialogue_du_13_April_2021_sur_la_plateforme_Mattermost_dans_la_channel_'ENX_@_FR'.md\", \"Dialogue_du_20_October_2022_sur_la_plateforme_Mattermost_dans_la_channel_'ENX_@_FR'.md\", \"Dialogue_du_10_October_2023_sur_la_plateforme_Mattermost_dans_la_channel_'ENX_@_FR'.md\", \"Dialogue_du_23_February_2021_sur_la_plateforme_Mattermost_dans_la_channel_'ENX_@_FR'.md\", \"Dialogue_du_17_June_2021_sur_la_plateforme_Mattermost_dans_la_channel_'ENX_@_FR'.md\", \"Dialogue_du_03_April_2024_sur_la_plateforme_Mattermost_dans_la_channel_'ENX_@_FR'.md\", \"Dialogue_du_27_September_2021_sur_la_plateforme_Mattermost_dans_la_channel_'ENX_@_FR'.md\", \"Dialogue_du_09_July_2021_sur_la_plateforme_Mattermost_dans_la_channel_'ENX_@_FR'.md\", \"Dialogue_du_18_December_2023_sur_la_plateforme_Mattermost_dans_la_channel_'ENX_@_FR'.md\", \"Dialogue_du_18_March_2021_sur_la_plateforme_Mattermost_dans_la_channel_'ENX_@_FR'.md\", \"Dialogue_du_18_October_2023_sur_la_plateforme_Mattermost_dans_la_channel_'ENX_@_FR'.md\", \"Dialogue_du_17_June_2022_sur_la_plateforme_Mattermost_dans_la_channel_'ENX_@_FR'.md\", \"Dialogue_du_23_August_2022_sur_la_plateforme_Mattermost_dans_la_channel_'ENX_@_FR'.md\", \"Dialogue_du_19_November_2020_sur_la_plateforme_Mattermost_dans_la_channel_'ENX_@_FR'.md\", \"Dialogue_du_17_November_2021_sur_la_plateforme_Mattermost_dans_la_channel_'ENX_@_FR'.md\", \"Dialogue_du_11_March_2024_sur_la_plateforme_Mattermost_dans_la_channel_'ENX_@_FR'.md\", \"Dialogue_du_06_February_2024_sur_la_plateforme_Mattermost_dans_la_channel_'ENX_@_FR'.md\", \"Dialogue_du_17_June_2024_sur_la_plateforme_Mattermost_dans_la_channel_'ENX_@_FR'.md\", \"Dialogue_du_09_November_2020_sur_la_plateforme_Mattermost_dans_la_channel_'ENX_@_FR'.md\", \"Dialogue_du_09_November_2023_sur_la_plateforme_Mattermost_dans_la_channel_'ENX_@_FR'.md\", \"Dialogue_du_16_September_2021_sur_la_plateforme_Mattermost_dans_la_channel_'ENX_@_FR'.md\", \"Dialogue_du_08_November_2021_sur_la_plateforme_Mattermost_dans_la_channel_'ENX_@_FR'.md\", \"Dialogue_du_28_June_2021_sur_la_plateforme_Mattermost_dans_la_channel_'ENX_@_FR'.md\", \"Dialogue_du_26_October_2023_sur_la_plateforme_Mattermost_dans_la_channel_'ENX_@_FR'.md\", \"Dialogue_du_19_December_2020_sur_la_plateforme_Mattermost_dans_la_channel_'ENX_@_FR'.md\", \"Dialogue_du_23_January_2024_sur_la_plateforme_Mattermost_dans_la_channel_'ENX_@_FR'.md\", \"Dialogue_du_24_June_2024_sur_la_plateforme_Mattermost_dans_la_channel_'ENX_@_FR'.md\", \"Dialogue_du_27_April_2021_sur_la_plateforme_Mattermost_dans_la_channel_'ENX_@_FR'.md\", \"Dialogue_du_28_March_2024_sur_la_plateforme_Mattermost_dans_la_channel_'ENX_@_FR'.md\", \"Dialogue_du_23_December_2021_sur_la_plateforme_Mattermost_dans_la_channel_'ENX_@_FR'.md\", \"Dialogue_du_21_March_2024_sur_la_plateforme_Mattermost_dans_la_channel_'ENX_@_FR'.md\", \"Dialogue_du_14_May_2024_sur_la_plateforme_Mattermost_dans_la_channel_'ENX_@_FR'.md\", \"Dialogue_du_13_October_2021_sur_la_plateforme_Mattermost_dans_la_channel_'ENX_@_FR'.md\", \"Dialogue_du_20_March_2023_sur_la_plateforme_Mattermost_dans_la_channel_'ENX_@_FR'.md\", \"Dialogue_du_20_June_2022_sur_la_plateforme_Mattermost_dans_la_channel_'ENX_@_FR'.md\", \"Dialogue_du_03_March_2023_sur_la_plateforme_Mattermost_dans_la_channel_'ENX_@_FR'.md\", \"Dialogue_du_15_February_2024_sur_la_plateforme_Mattermost_dans_la_channel_'ENX_@_FR'.md\", \"Dialogue_du_09_February_2022_sur_la_plateforme_Mattermost_dans_la_channel_'ENX_@_FR'.md\", \"Dialogue_du_26_January_2022_sur_la_plateforme_Mattermost_dans_la_channel_'ENX_@_FR'.md\", \"Dialogue_du_06_December_2022_sur_la_plateforme_Mattermost_dans_la_channel_'ENX_@_FR'.md\", \"Dialogue_du_21_November_2022_sur_la_plateforme_Mattermost_dans_la_channel_'ENX_@_FR'.md\", \"Dialogue_du_19_June_2024_sur_la_plateforme_Mattermost_dans_la_channel_'ENX_@_FR'.md\", \"Dialogue_du_10_November_2023_sur_la_plateforme_Mattermost_dans_la_channel_'ENX_@_FR'.md\", \"Dialogue_du_05_July_2023_sur_la_plateforme_Mattermost_dans_la_channel_'ENX_@_FR'.md\", \"Dialogue_du_16_November_2022_sur_la_plateforme_Mattermost_dans_la_channel_'ENX_@_FR'.md\", \"Dialogue_du_26_June_2023_sur_la_plateforme_Mattermost_dans_la_channel_'ENX_@_FR'.md\", \"Dialogue_du_08_November_2022_sur_la_plateforme_Mattermost_dans_la_channel_'ENX_@_FR'.md\", \"Dialogue_du_10_June_2024_sur_la_plateforme_Mattermost_dans_la_channel_'ENX_@_FR'.md\", \"Dialogue_du_11_April_2024_sur_la_plateforme_Mattermost_dans_la_channel_'ENX_@_FR'.md\", \"Dialogue_du_21_April_2023_sur_la_plateforme_Mattermost_dans_la_channel_'ENX_@_FR'.md\", \"Dialogue_du_24_July_2023_sur_la_plateforme_Mattermost_dans_la_channel_'ENX_@_FR'.md\", \"Dialogue_du_24_December_2020_sur_la_plateforme_Mattermost_dans_la_channel_'ENX_@_FR'.md\", \"Dialogue_du_07_November_2023_sur_la_plateforme_Mattermost_dans_la_channel_'ENX_@_FR'.md\", \"Dialogue_du_20_May_2021_sur_la_plateforme_Mattermost_dans_la_channel_'ENX_@_FR'.md\", \"Dialogue_du_15_September_2023_sur_la_plateforme_Mattermost_dans_la_channel_'ENX_@_FR'.md\", \"Dialogue_du_23_April_2021_sur_la_plateforme_Mattermost_dans_la_channel_'ENX_@_FR'.md\", \"Dialogue_du_05_July_2021_sur_la_plateforme_Mattermost_dans_la_channel_'ENX_@_FR'.md\", \"Dialogue_du_04_October_2021_sur_la_plateforme_Mattermost_dans_la_channel_'ENX_@_FR'.md\", \"Dialogue_du_21_June_2023_sur_la_plateforme_Mattermost_dans_la_channel_'ENX_@_FR'.md\", \"Dialogue_du_06_March_2024_sur_la_plateforme_Mattermost_dans_la_channel_'ENX_@_FR'.md\", \"Dialogue_du_18_November_2020_sur_la_plateforme_Mattermost_dans_la_channel_'ENX_@_FR'.md\", \"Dialogue_du_21_October_2021_sur_la_plateforme_Mattermost_dans_la_channel_'ENX_@_FR'.md\", \"Dialogue_du_16_July_2020_sur_la_plateforme_Mattermost_dans_la_channel_'ENX_@_FR'.md\", \"Dialogue_du_05_June_2023_sur_la_plateforme_Mattermost_dans_la_channel_'ENX_@_FR'.md\", \"Dialogue_du_17_April_2023_sur_la_plateforme_Mattermost_dans_la_channel_'ENX_@_FR'.md\", \"Dialogue_du_01_September_2022_sur_la_plateforme_Mattermost_dans_la_channel_'ENX_@_FR'.md\", \"Dialogue_du_08_December_2020_sur_la_plateforme_Mattermost_dans_la_channel_'ENX_@_FR'.md\", \"Dialogue_du_06_January_2021_sur_la_plateforme_Mattermost_dans_la_channel_'ENX_@_FR'.md\", \"Dialogue_du_24_May_2023_sur_la_plateforme_Mattermost_dans_la_channel_'ENX_@_FR'.md\", \"Dialogue_du_23_January_2023_sur_la_plateforme_Mattermost_dans_la_channel_'ENX_@_FR'.md\", \"Dialogue_du_19_May_2022_sur_la_plateforme_Mattermost_dans_la_channel_'ENX_@_FR'.md\", \"Dialogue_du_29_March_2024_sur_la_plateforme_Mattermost_dans_la_channel_'ENX_@_FR'.md\", \"Dialogue_du_07_March_2024_sur_la_plateforme_Mattermost_dans_la_channel_'ENX_@_FR'.md\", \"Dialogue_du_15_January_2021_sur_la_plateforme_Mattermost_dans_la_channel_'ENX_@_FR'.md\", \"Dialogue_du_26_November_2021_sur_la_plateforme_Mattermost_dans_la_channel_'ENX_@_FR'.md\", \"Dialogue_du_31_May_2022_sur_la_plateforme_Mattermost_dans_la_channel_'ENX_@_FR'.md\", \"Dialogue_du_08_December_2021_sur_la_plateforme_Mattermost_dans_la_channel_'ENX_@_FR'.md\", \"Dialogue_du_04_May_2021_sur_la_plateforme_Mattermost_dans_la_channel_'ENX_@_FR'.md\", \"Dialogue_du_26_September_2023_sur_la_plateforme_Mattermost_dans_la_channel_'ENX_@_FR'.md\", \"Dialogue_du_09_March_2023_sur_la_plateforme_Mattermost_dans_la_channel_'ENX_@_FR'.md\", \"Dialogue_du_24_August_2021_sur_la_plateforme_Mattermost_dans_la_channel_'ENX_@_FR'.md\", \"Dialogue_du_16_February_2023_sur_la_plateforme_Mattermost_dans_la_channel_'ENX_@_FR'.md\", \"Dialogue_du_08_December_2022_sur_la_plateforme_Mattermost_dans_la_channel_'ENX_@_FR'.md\", \"Dialogue_du_17_August_2023_sur_la_plateforme_Mattermost_dans_la_channel_'ENX_@_FR'.md\", \"Dialogue_du_01_July_2021_sur_la_plateforme_Mattermost_dans_la_channel_'ENX_@_FR'.md\", \"Dialogue_du_03_October_2023_sur_la_plateforme_Mattermost_dans_la_channel_'ENX_@_FR'.md\", \"Dialogue_du_09_April_2024_sur_la_plateforme_Mattermost_dans_la_channel_'ENX_@_FR'.md\", \"Dialogue_du_23_September_2022_sur_la_plateforme_Mattermost_dans_la_channel_'ENX_@_FR'.md\", \"Dialogue_du_06_February_2023_sur_la_plateforme_Mattermost_dans_la_channel_'ENX_@_FR'.md\", \"Dialogue_du_14_April_2021_sur_la_plateforme_Mattermost_dans_la_channel_'ENX_@_FR'.md\", \"Dialogue_du_21_November_2023_sur_la_plateforme_Mattermost_dans_la_channel_'ENX_@_FR'.md\", \"Dialogue_du_18_January_2024_sur_la_plateforme_Mattermost_dans_la_channel_'ENX_@_FR'.md\", \"Dialogue_du_28_February_2023_sur_la_plateforme_Mattermost_dans_la_channel_'ENX_@_FR'.md\", \"Dialogue_du_10_January_2024_sur_la_plateforme_Mattermost_dans_la_channel_'ENX_@_FR'.md\", \"Dialogue_du_12_October_2021_sur_la_plateforme_Mattermost_dans_la_channel_'ENX_@_FR'.md\", \"Dialogue_du_15_March_2022_sur_la_plateforme_Mattermost_dans_la_channel_'ENX_@_FR'.md\", \"Dialogue_du_23_February_2023_sur_la_plateforme_Mattermost_dans_la_channel_'ENX_@_FR'.md\", \"Dialogue_du_05_April_2023_sur_la_plateforme_Mattermost_dans_la_channel_'ENX_@_FR'.md\", \"Dialogue_du_10_June_2021_sur_la_plateforme_Mattermost_dans_la_channel_'ENX_@_FR'.md\", \"Dialogue_du_08_September_2022_sur_la_plateforme_Mattermost_dans_la_channel_'ENX_@_FR'.md\", \"Dialogue_du_06_June_2024_sur_la_plateforme_Mattermost_dans_la_channel_'ENX_@_FR'.md\", \"Dialogue_du_17_March_2021_sur_la_plateforme_Mattermost_dans_la_channel_'ENX_@_FR'.md\", \"Dialogue_du_17_January_2023_sur_la_plateforme_Mattermost_dans_la_channel_'ENX_@_FR'.md\", \"Dialogue_du_22_February_2023_sur_la_plateforme_Mattermost_dans_la_channel_'ENX_@_FR'.md\", \"Dialogue_du_16_June_2021_sur_la_plateforme_Mattermost_dans_la_channel_'ENX_@_FR'.md\", \"Dialogue_du_24_September_2021_sur_la_plateforme_Mattermost_dans_la_channel_'ENX_@_FR'.md\", \"Dialogue_du_25_January_2021_sur_la_plateforme_Mattermost_dans_la_channel_'ENX_@_FR'.md\", \"Dialogue_du_20_June_2024_sur_la_plateforme_Mattermost_dans_la_channel_'ENX_@_FR'.md\", \"Dialogue_du_12_October_2020_sur_la_plateforme_Mattermost_dans_la_channel_'ENX_@_FR'.md\", \"Dialogue_du_07_December_2023_sur_la_plateforme_Mattermost_dans_la_channel_'ENX_@_FR'.md\", \"Dialogue_du_01_December_2023_sur_la_plateforme_Mattermost_dans_la_channel_'ENX_@_FR'.md\", \"Dialogue_du_23_April_2024_sur_la_plateforme_Mattermost_dans_la_channel_'ENX_@_FR'.md\", \"Dialogue_du_28_December_2021_sur_la_plateforme_Mattermost_dans_la_channel_'ENX_@_FR'.md\", \"Dialogue_du_12_August_2022_sur_la_plateforme_Mattermost_dans_la_channel_'ENX_@_FR'.md\", \"Dialogue_du_21_December_2020_sur_la_plateforme_Mattermost_dans_la_channel_'ENX_@_FR'.md\", \"Dialogue_du_22_February_2024_sur_la_plateforme_Mattermost_dans_la_channel_'ENX_@_FR'.md\", \"Dialogue_du_22_September_2020_sur_la_plateforme_Mattermost_dans_la_channel_'ENX_@_FR'.md\", \"Dialogue_du_25_June_2024_sur_la_plateforme_Mattermost_dans_la_channel_'ENX_@_FR'.md\", \"Dialogue_du_14_June_2023_sur_la_plateforme_Mattermost_dans_la_channel_'ENX_@_FR'.md\", \"Dialogue_du_25_April_2022_sur_la_plateforme_Mattermost_dans_la_channel_'ENX_@_FR'.md\", \"Dialogue_du_28_September_2020_sur_la_plateforme_Mattermost_dans_la_channel_'ENX_@_FR'.md\", \"Dialogue_du_11_May_2021_sur_la_plateforme_Mattermost_dans_la_channel_'ENX_@_FR'.md\", \"Dialogue_du_06_May_2022_sur_la_plateforme_Mattermost_dans_la_channel_'ENX_@_FR'.md\", \"Dialogue_du_25_August_2023_sur_la_plateforme_Mattermost_dans_la_channel_'ENX_@_FR'.md\", \"Dialogue_du_21_March_2022_sur_la_plateforme_Mattermost_dans_la_channel_'ENX_@_FR'.md\", \"Dialogue_du_11_December_2023_sur_la_plateforme_Mattermost_dans_la_channel_'ENX_@_FR'.md\", \"Dialogue_du_12_January_2023_sur_la_plateforme_Mattermost_dans_la_channel_'ENX_@_FR'.md\", \"Dialogue_du_28_March_2022_sur_la_plateforme_Mattermost_dans_la_channel_'ENX_@_FR'.md\", \"Dialogue_du_01_March_2021_sur_la_plateforme_Mattermost_dans_la_channel_'ENX_@_FR'.md\", \"Dialogue_du_31_January_2021_sur_la_plateforme_Mattermost_dans_la_channel_'ENX_@_FR'.md\", \"Dialogue_du_20_January_2022_sur_la_plateforme_Mattermost_dans_la_channel_'ENX_@_FR'.md\", \"Dialogue_du_06_May_2024_sur_la_plateforme_Mattermost_dans_la_channel_'ENX_@_FR'.md\", \"Dialogue_du_15_June_2023_sur_la_plateforme_Mattermost_dans_la_channel_'ENX_@_FR'.md\", \"Dialogue_du_10_October_2022_sur_la_plateforme_Mattermost_dans_la_channel_'ENX_@_FR'.md\", \"Dialogue_du_26_July_2022_sur_la_plateforme_Mattermost_dans_la_channel_'ENX_@_FR'.md\", \"Dialogue_du_17_February_2023_sur_la_plateforme_Mattermost_dans_la_channel_'ENX_@_FR'.md\", \"Dialogue_du_21_August_2023_sur_la_plateforme_Mattermost_dans_la_channel_'ENX_@_FR'.md\", \"Dialogue_du_06_June_2019_sur_la_plateforme_Mattermost_dans_la_channel_'ENX_@_FR'.md\", \"Dialogue_du_09_September_2022_sur_la_plateforme_Mattermost_dans_la_channel_'ENX_@_FR'.md\", \"Dialogue_du_30_June_2021_sur_la_plateforme_Mattermost_dans_la_channel_'ENX_@_FR'.md\", \"Dialogue_du_07_February_2023_sur_la_plateforme_Mattermost_dans_la_channel_'ENX_@_FR'.md\", \"Dialogue_du_29_September_2023_sur_la_plateforme_Mattermost_dans_la_channel_'ENX_@_FR'.md\", \"Dialogue_du_28_July_2023_sur_la_plateforme_Mattermost_dans_la_channel_'ENX_@_FR'.md\", \"Dialogue_du_15_April_2024_sur_la_plateforme_Mattermost_dans_la_channel_'ENX_@_FR'.md\", \"Dialogue_du_19_April_2024_sur_la_plateforme_Mattermost_dans_la_channel_'ENX_@_FR'.md\", \"Dialogue_du_05_September_2022_sur_la_plateforme_Mattermost_dans_la_channel_'ENX_@_FR'.md\", \"Dialogue_du_03_May_2024_sur_la_plateforme_Mattermost_dans_la_channel_'ENX_@_FR'.md\", \"Dialogue_du_20_February_2023_sur_la_plateforme_Mattermost_dans_la_channel_'ENX_@_FR'.md\", \"Dialogue_du_07_January_2021_sur_la_plateforme_Mattermost_dans_la_channel_'ENX_@_FR'.md\", \"Dialogue_du_29_March_2022_sur_la_plateforme_Mattermost_dans_la_channel_'ENX_@_FR'.md\", \"Dialogue_du_20_July_2021_sur_la_plateforme_Mattermost_dans_la_channel_'ENX_@_FR'.md\", \"Dialogue_du_01_March_2024_sur_la_plateforme_Mattermost_dans_la_channel_'ENX_@_FR'.md\", \"Dialogue_du_24_April_2024_sur_la_plateforme_Mattermost_dans_la_channel_'ENX_@_FR'.md\", \"Dialogue_du_15_March_2024_sur_la_plateforme_Mattermost_dans_la_channel_'ENX_@_FR'.md\", \"Dialogue_du_14_March_2024_sur_la_plateforme_Mattermost_dans_la_channel_'ENX_@_FR'.md\", \"Dialogue_du_20_August_2020_sur_la_plateforme_Mattermost_dans_la_channel_'ENX_@_FR'.md\", \"Dialogue_du_22_March_2021_sur_la_plateforme_Mattermost_dans_la_channel_'ENX_@_FR'.md\", \"Dialogue_du_18_August_2021_sur_la_plateforme_Mattermost_dans_la_channel_'ENX_@_FR'.md\", \"Dialogue_du_31_March_2022_sur_la_plateforme_Mattermost_dans_la_channel_'ENX_@_FR'.md\", \"Dialogue_du_05_June_2024_sur_la_plateforme_Mattermost_dans_la_channel_'ENX_@_FR'.md\", \"Dialogue_du_10_February_2023_sur_la_plateforme_Mattermost_dans_la_channel_'ENX_@_FR'.md\", \"Dialogue_du_05_December_2022_sur_la_plateforme_Mattermost_dans_la_channel_'ENX_@_FR'.md\", \"Dialogue_du_16_March_2021_sur_la_plateforme_Mattermost_dans_la_channel_'ENX_@_FR'.md\", \"Dialogue_du_21_April_2021_sur_la_plateforme_Mattermost_dans_la_channel_'ENX_@_FR'.md\", \"Dialogue_du_19_September_2023_sur_la_plateforme_Mattermost_dans_la_channel_'ENX_@_FR'.md\", \"Dialogue_du_04_July_2022_sur_la_plateforme_Mattermost_dans_la_channel_'ENX_@_FR'.md\", \"Dialogue_du_16_April_2021_sur_la_plateforme_Mattermost_dans_la_channel_'ENX_@_FR'.md\", \"Dialogue_du_14_September_2020_sur_la_plateforme_Mattermost_dans_la_channel_'ENX_@_FR'.md\", \"Dialogue_du_25_September_2021_sur_la_plateforme_Mattermost_dans_la_channel_'ENX_@_FR'.md\", \"Dialogue_du_07_May_2024_sur_la_plateforme_Mattermost_dans_la_channel_'ENX_@_FR'.md\", \"Dialogue_du_28_November_2022_sur_la_plateforme_Mattermost_dans_la_channel_'ENX_@_FR'.md\", \"Dialogue_du_10_March_2023_sur_la_plateforme_Mattermost_dans_la_channel_'ENX_@_FR'.md\", \"Dialogue_du_05_October_2022_sur_la_plateforme_Mattermost_dans_la_channel_'ENX_@_FR'.md\", \"Dialogue_du_06_October_2021_sur_la_plateforme_Mattermost_dans_la_channel_'ENX_@_FR'.md\", \"Dialogue_du_16_July_2021_sur_la_plateforme_Mattermost_dans_la_channel_'ENX_@_FR'.md\", \"Dialogue_du_17_September_2021_sur_la_plateforme_Mattermost_dans_la_channel_'ENX_@_FR'.md\", \"Dialogue_du_02_March_2021_sur_la_plateforme_Mattermost_dans_la_channel_'ENX_@_FR'.md\", \"Dialogue_du_31_October_2023_sur_la_plateforme_Mattermost_dans_la_channel_'ENX_@_FR'.md\", \"Dialogue_du_15_February_2022_sur_la_plateforme_Mattermost_dans_la_channel_'ENX_@_FR'.md\", \"Dialogue_du_19_August_2022_sur_la_plateforme_Mattermost_dans_la_channel_'ENX_@_FR'.md\", \"Dialogue_du_13_May_2022_sur_la_plateforme_Mattermost_dans_la_channel_'ENX_@_FR'.md\", \"Dialogue_du_11_March_2021_sur_la_plateforme_Mattermost_dans_la_channel_'ENX_@_FR'.md\", \"Dialogue_du_11_January_2021_sur_la_plateforme_Mattermost_dans_la_channel_'ENX_@_FR'.md\", \"Dialogue_du_31_January_2023_sur_la_plateforme_Mattermost_dans_la_channel_'ENX_@_FR'.md\", \"Dialogue_du_03_July_2023_sur_la_plateforme_Mattermost_dans_la_channel_'ENX_@_FR'.md\", \"Dialogue_du_12_January_2021_sur_la_plateforme_Mattermost_dans_la_channel_'ENX_@_FR'.md\", \"Dialogue_du_26_October_2022_sur_la_plateforme_Mattermost_dans_la_channel_'ENX_@_FR'.md\", \"Dialogue_du_05_October_2023_sur_la_plateforme_Mattermost_dans_la_channel_'ENX_@_FR'.md\", \"Dialogue_du_15_April_2021_sur_la_plateforme_Mattermost_dans_la_channel_'ENX_@_FR'.md\", \"Dialogue_du_05_January_2023_sur_la_plateforme_Mattermost_dans_la_channel_'ENX_@_FR'.md\", \"Dialogue_du_23_December_2022_sur_la_plateforme_Mattermost_dans_la_channel_'ENX_@_FR'.md\", \"Dialogue_du_05_May_2023_sur_la_plateforme_Mattermost_dans_la_channel_'ENX_@_FR'.md\", \"Dialogue_du_16_August_2022_sur_la_plateforme_Mattermost_dans_la_channel_'ENX_@_FR'.md\", \"Dialogue_du_09_August_2022_sur_la_plateforme_Mattermost_dans_la_channel_'ENX_@_FR'.md\", \"Dialogue_du_03_June_2022_sur_la_plateforme_Mattermost_dans_la_channel_'ENX_@_FR'.md\", \"Dialogue_du_12_October_2023_sur_la_plateforme_Mattermost_dans_la_channel_'ENX_@_FR'.md\", \"Dialogue_du_21_May_2024_sur_la_plateforme_Mattermost_dans_la_channel_'ENX_@_FR'.md\", \"Dialogue_du_07_May_2021_sur_la_plateforme_Mattermost_dans_la_channel_'ENX_@_FR'.md\", \"Dialogue_du_15_April_2022_sur_la_plateforme_Mattermost_dans_la_channel_'ENX_@_FR'.md\", \"Dialogue_du_25_March_2021_sur_la_plateforme_Mattermost_dans_la_channel_'ENX_@_FR'.md\", \"Dialogue_du_01_December_2020_sur_la_plateforme_Mattermost_dans_la_channel_'ENX_@_FR'.md\", \"Dialogue_du_26_January_2021_sur_la_plateforme_Mattermost_dans_la_channel_'ENX_@_FR'.md\", \"Dialogue_du_19_January_2023_sur_la_plateforme_Mattermost_dans_la_channel_'ENX_@_FR'.md\", \"Dialogue_du_20_September_2023_sur_la_plateforme_Mattermost_dans_la_channel_'ENX_@_FR'.md\", \"Dialogue_du_18_September_2020_sur_la_plateforme_Mattermost_dans_la_channel_'ENX_@_FR'.md\", \"Dialogue_du_21_June_2022_sur_la_plateforme_Mattermost_dans_la_channel_'ENX_@_FR'.md\", \"Dialogue_du_13_June_2022_sur_la_plateforme_Mattermost_dans_la_channel_'ENX_@_FR'.md\", \"Dialogue_du_12_May_2023_sur_la_plateforme_Mattermost_dans_la_channel_'ENX_@_FR'.md\", \"Dialogue_du_17_May_2021_sur_la_plateforme_Mattermost_dans_la_channel_'ENX_@_FR'.md\", \"Dialogue_du_15_December_2023_sur_la_plateforme_Mattermost_dans_la_channel_'ENX_@_FR'.md\", \"Dialogue_du_07_April_2022_sur_la_plateforme_Mattermost_dans_la_channel_'ENX_@_FR'.md\", \"Dialogue_du_30_January_2024_sur_la_plateforme_Mattermost_dans_la_channel_'ENX_@_FR'.md\", \"Dialogue_du_07_October_2021_sur_la_plateforme_Mattermost_dans_la_channel_'ENX_@_FR'.md\", \"Dialogue_du_22_October_2021_sur_la_plateforme_Mattermost_dans_la_channel_'ENX_@_FR'.md\", \"Dialogue_du_31_August_2020_sur_la_plateforme_Mattermost_dans_la_channel_'ENX_@_FR'.md\", \"Dialogue_du_12_March_2024_sur_la_plateforme_Mattermost_dans_la_channel_'ENX_@_FR'.md\", \"Dialogue_du_15_February_2021_sur_la_plateforme_Mattermost_dans_la_channel_'ENX_@_FR'.md\", \"Dialogue_du_27_April_2023_sur_la_plateforme_Mattermost_dans_la_channel_'ENX_@_FR'.md\", \"Dialogue_du_11_June_2024_sur_la_plateforme_Mattermost_dans_la_channel_'ENX_@_FR'.md\", \"Dialogue_du_05_March_2024_sur_la_plateforme_Mattermost_dans_la_channel_'ENX_@_FR'.md\", \"Dialogue_du_01_February_2023_sur_la_plateforme_Mattermost_dans_la_channel_'ENX_@_FR'.md\", \"Dialogue_du_30_August_2023_sur_la_plateforme_Mattermost_dans_la_channel_'ENX_@_FR'.md\", \"Dialogue_du_28_May_2021_sur_la_plateforme_Mattermost_dans_la_channel_'ENX_@_FR'.md\", \"Dialogue_du_02_August_2022_sur_la_plateforme_Mattermost_dans_la_channel_'ENX_@_FR'.md\", \"Dialogue_du_08_March_2024_sur_la_plateforme_Mattermost_dans_la_channel_'ENX_@_FR'.md\", \"Dialogue_du_02_April_2021_sur_la_plateforme_Mattermost_dans_la_channel_'ENX_@_FR'.md\", \"Dialogue_du_27_February_2024_sur_la_plateforme_Mattermost_dans_la_channel_'ENX_@_FR'.md\", \"Dialogue_du_16_March_2023_sur_la_plateforme_Mattermost_dans_la_channel_'ENX_@_FR'.md\", \"Dialogue_du_02_March_2023_sur_la_plateforme_Mattermost_dans_la_channel_'ENX_@_FR'.md\", \"Dialogue_du_07_September_2023_sur_la_plateforme_Mattermost_dans_la_channel_'ENX_@_FR'.md\", \"Dialogue_du_26_February_2021_sur_la_plateforme_Mattermost_dans_la_channel_'ENX_@_FR'.md\", \"Dialogue_du_01_July_2024_sur_la_plateforme_Mattermost_dans_la_channel_'ENX_@_FR'.md\", \"Dialogue_du_13_July_2021_sur_la_plateforme_Mattermost_dans_la_channel_'ENX_@_FR'.md\", \"Dialogue_du_07_April_2023_sur_la_plateforme_Mattermost_dans_la_channel_'ENX_@_FR'.md\", \"Dialogue_du_23_November_2020_sur_la_plateforme_Mattermost_dans_la_channel_'ENX_@_FR'.md\", \"Dialogue_du_28_April_2022_sur_la_plateforme_Mattermost_dans_la_channel_'ENX_@_FR'.md\", \"Dialogue_du_19_March_2024_sur_la_plateforme_Mattermost_dans_la_channel_'ENX_@_FR'.md\", \"Dialogue_du_28_December_2023_sur_la_plateforme_Mattermost_dans_la_channel_'ENX_@_FR'.md\", \"Dialogue_du_08_January_2024_sur_la_plateforme_Mattermost_dans_la_channel_'ENX_@_FR'.md\", \"Dialogue_du_20_August_2021_sur_la_plateforme_Mattermost_dans_la_channel_'ENX_@_FR'.md\", \"Dialogue_du_04_January_2021_sur_la_plateforme_Mattermost_dans_la_channel_'ENX_@_FR'.md\", \"Dialogue_du_16_December_2022_sur_la_plateforme_Mattermost_dans_la_channel_'ENX_@_FR'.md\", \"Dialogue_du_01_February_2021_sur_la_plateforme_Mattermost_dans_la_channel_'ENX_@_FR'.md\", \"Dialogue_du_20_May_2024_sur_la_plateforme_Mattermost_dans_la_channel_'ENX_@_FR'.md\", \"Dialogue_du_29_May_2024_sur_la_plateforme_Mattermost_dans_la_channel_'ENX_@_FR'.md\", \"Dialogue_du_02_November_2023_sur_la_plateforme_Mattermost_dans_la_channel_'ENX_@_FR'.md\", \"Dialogue_du_29_January_2024_sur_la_plateforme_Mattermost_dans_la_channel_'ENX_@_FR'.md\", \"Dialogue_du_22_March_2024_sur_la_plateforme_Mattermost_dans_la_channel_'ENX_@_FR'.md\", \"Dialogue_du_29_August_2022_sur_la_plateforme_Mattermost_dans_la_channel_'ENX_@_FR'.md\", \"Dialogue_du_02_January_2024_sur_la_plateforme_Mattermost_dans_la_channel_'ENX_@_FR'.md\", \"Dialogue_du_31_August_2023_sur_la_plateforme_Mattermost_dans_la_channel_'ENX_@_FR'.md\", \"Dialogue_du_20_November_2023_sur_la_plateforme_Mattermost_dans_la_channel_'ENX_@_FR'.md\", \"Dialogue_du_23_March_2023_sur_la_plateforme_Mattermost_dans_la_channel_'ENX_@_FR'.md\", \"Dialogue_du_01_August_2022_sur_la_plateforme_Mattermost_dans_la_channel_'ENX_@_FR'.md\", \"Dialogue_du_30_April_2024_sur_la_plateforme_Mattermost_dans_la_channel_'ENX_@_FR'.md\", \"Dialogue_du_14_February_2022_sur_la_plateforme_Mattermost_dans_la_channel_'ENX_@_FR'.md\", \"Dialogue_du_25_November_2020_sur_la_plateforme_Mattermost_dans_la_channel_'ENX_@_FR'.md\", \"Dialogue_du_28_October_2021_sur_la_plateforme_Mattermost_dans_la_channel_'ENX_@_FR'.md\", \"Dialogue_du_17_February_2021_sur_la_plateforme_Mattermost_dans_la_channel_'ENX_@_FR'.md\", \"Dialogue_du_22_June_2021_sur_la_plateforme_Mattermost_dans_la_channel_'ENX_@_FR'.md\", \"Dialogue_du_16_December_2020_sur_la_plateforme_Mattermost_dans_la_channel_'ENX_@_FR'.md\", \"Dialogue_du_31_August_2022_sur_la_plateforme_Mattermost_dans_la_channel_'ENX_@_FR'.md\", \"Dialogue_du_04_August_2021_sur_la_plateforme_Mattermost_dans_la_channel_'ENX_@_FR'.md\", \"Dialogue_du_18_May_2021_sur_la_plateforme_Mattermost_dans_la_channel_'ENX_@_FR'.md\", \"Dialogue_du_12_February_2024_sur_la_plateforme_Mattermost_dans_la_channel_'ENX_@_FR'.md\", \"Dialogue_du_26_February_2024_sur_la_plateforme_Mattermost_dans_la_channel_'ENX_@_FR'.md\", \"Dialogue_du_14_April_2022_sur_la_plateforme_Mattermost_dans_la_channel_'ENX_@_FR'.md\", \"Dialogue_du_23_February_2022_sur_la_plateforme_Mattermost_dans_la_channel_'ENX_@_FR'.md\", \"Dialogue_du_17_December_2020_sur_la_plateforme_Mattermost_dans_la_channel_'ENX_@_FR'.md\", \"Dialogue_du_08_June_2021_sur_la_plateforme_Mattermost_dans_la_channel_'ENX_@_FR'.md\", \"Dialogue_du_30_May_2024_sur_la_plateforme_Mattermost_dans_la_channel_'ENX_@_FR'.md\", \"Dialogue_du_06_March_2023_sur_la_plateforme_Mattermost_dans_la_channel_'ENX_@_FR'.md\", \"Dialogue_du_12_May_2021_sur_la_plateforme_Mattermost_dans_la_channel_'ENX_@_FR'.md\", \"Dialogue_du_14_December_2023_sur_la_plateforme_Mattermost_dans_la_channel_'ENX_@_FR'.md\", \"Dialogue_du_14_December_2022_sur_la_plateforme_Mattermost_dans_la_channel_'ENX_@_FR'.md\", \"Dialogue_du_13_July_2023_sur_la_plateforme_Mattermost_dans_la_channel_'ENX_@_FR'.md\", \"Dialogue_du_18_September_2023_sur_la_plateforme_Mattermost_dans_la_channel_'ENX_@_FR'.md\", \"Dialogue_du_12_April_2023_sur_la_plateforme_Mattermost_dans_la_channel_'ENX_@_FR'.md\", \"Dialogue_du_07_December_2022_sur_la_plateforme_Mattermost_dans_la_channel_'ENX_@_FR'.md\", \"Dialogue_du_04_April_2024_sur_la_plateforme_Mattermost_dans_la_channel_'ENX_@_FR'.md\", \"Dialogue_du_10_June_2019_sur_la_plateforme_Mattermost_dans_la_channel_'ENX_@_FR'.md\", \"Dialogue_du_10_May_2021_sur_la_plateforme_Mattermost_dans_la_channel_'ENX_@_FR'.md\", \"Dialogue_du_16_January_2024_sur_la_plateforme_Mattermost_dans_la_channel_'ENX_@_FR'.md\", \"Dialogue_du_03_May_2021_sur_la_plateforme_Mattermost_dans_la_channel_'ENX_@_FR'.md\", \"Dialogue_du_05_April_2024_sur_la_plateforme_Mattermost_dans_la_channel_'ENX_@_FR'.md\", \"Dialogue_du_17_May_2024_sur_la_plateforme_Mattermost_dans_la_channel_'ENX_@_FR'.md\", \"Dialogue_du_02_May_2022_sur_la_plateforme_Mattermost_dans_la_channel_'ENX_@_FR'.md\", \"Dialogue_du_04_May_2023_sur_la_plateforme_Mattermost_dans_la_channel_'ENX_@_FR'.md\", \"Dialogue_du_17_February_2022_sur_la_plateforme_Mattermost_dans_la_channel_'ENX_@_FR'.md\", \"Dialogue_du_18_April_2023_sur_la_plateforme_Mattermost_dans_la_channel_'ENX_@_FR'.md\", \"Dialogue_du_16_November_2023_sur_la_plateforme_Mattermost_dans_la_channel_'ENX_@_FR'.md\", \"Dialogue_du_30_March_2022_sur_la_plateforme_Mattermost_dans_la_channel_'ENX_@_FR'.md\", \"Dialogue_du_09_June_2023_sur_la_plateforme_Mattermost_dans_la_channel_'ENX_@_FR'.md\", \"Dialogue_du_29_April_2022_sur_la_plateforme_Mattermost_dans_la_channel_'ENX_@_FR'.md\", \"Dialogue_du_14_September_2022_sur_la_plateforme_Mattermost_dans_la_channel_'ENX_@_FR'.md\", \"Dialogue_du_18_March_2022_sur_la_plateforme_Mattermost_dans_la_channel_'ENX_@_FR'.md\", \"Dialogue_du_25_February_2022_sur_la_plateforme_Mattermost_dans_la_channel_'ENX_@_FR'.md\", \"Dialogue_du_14_January_2022_sur_la_plateforme_Mattermost_dans_la_channel_'ENX_@_FR'.md\", \"Dialogue_du_10_November_2020_sur_la_plateforme_Mattermost_dans_la_channel_'ENX_@_FR'.md\", \"Dialogue_du_22_February_2022_sur_la_plateforme_Mattermost_dans_la_channel_'ENX_@_FR'.md\", \"Dialogue_du_23_September_2021_sur_la_plateforme_Mattermost_dans_la_channel_'ENX_@_FR'.md\", \"Dialogue_du_19_July_2021_sur_la_plateforme_Mattermost_dans_la_channel_'ENX_@_FR'.md\", \"Dialogue_du_28_October_2022_sur_la_plateforme_Mattermost_dans_la_channel_'ENX_@_FR'.md\", \"Dialogue_du_08_December_2023_sur_la_plateforme_Mattermost_dans_la_channel_'ENX_@_FR'.md\", \"Dialogue_du_31_July_2023_sur_la_plateforme_Mattermost_dans_la_channel_'ENX_@_FR'.md\", \"Dialogue_du_12_September_2022_sur_la_plateforme_Mattermost_dans_la_channel_'ENX_@_FR'.md\", \"Dialogue_du_04_March_2021_sur_la_plateforme_Mattermost_dans_la_channel_'ENX_@_FR'.md\", \"Dialogue_du_08_January_2021_sur_la_plateforme_Mattermost_dans_la_channel_'ENX_@_FR'.md\", \"Dialogue_du_05_December_2023_sur_la_plateforme_Mattermost_dans_la_channel_'ENX_@_FR'.md\", \"Dialogue_du_08_October_2021_sur_la_plateforme_Mattermost_dans_la_channel_'ENX_@_FR'.md\", \"Dialogue_du_22_December_2021_sur_la_plateforme_Mattermost_dans_la_channel_'ENX_@_FR'.md\", \"Dialogue_du_14_December_2020_sur_la_plateforme_Mattermost_dans_la_channel_'ENX_@_FR'.md\", \"Dialogue_du_25_November_2021_sur_la_plateforme_Mattermost_dans_la_channel_'ENX_@_FR'.md\", \"Dialogue_du_13_January_2022_sur_la_plateforme_Mattermost_dans_la_channel_'ENX_@_FR'.md\", \"Dialogue_du_18_January_2023_sur_la_plateforme_Mattermost_dans_la_channel_'ENX_@_FR'.md\", \"Dialogue_du_07_September_2022_sur_la_plateforme_Mattermost_dans_la_channel_'ENX_@_FR'.md\", \"Dialogue_du_13_May_2024_sur_la_plateforme_Mattermost_dans_la_channel_'ENX_@_FR'.md\", \"Dialogue_du_04_January_2024_sur_la_plateforme_Mattermost_dans_la_channel_'ENX_@_FR'.md\", \"Dialogue_du_30_April_2021_sur_la_plateforme_Mattermost_dans_la_channel_'ENX_@_FR'.md\", \"Dialogue_du_25_April_2024_sur_la_plateforme_Mattermost_dans_la_channel_'ENX_@_FR'.md\", \"Dialogue_du_27_September_2022_sur_la_plateforme_Mattermost_dans_la_channel_'ENX_@_FR'.md\", \"Dialogue_du_27_October_2023_sur_la_plateforme_Mattermost_dans_la_channel_'ENX_@_FR'.md\", \"Dialogue_du_25_January_2022_sur_la_plateforme_Mattermost_dans_la_channel_'ENX_@_FR'.md\", \"Dialogue_du_26_September_2022_sur_la_plateforme_Mattermost_dans_la_channel_'ENX_@_FR'.md\", \"Dialogue_du_09_October_2020_sur_la_plateforme_Mattermost_dans_la_channel_'ENX_@_FR'.md\", \"Dialogue_du_29_November_2021_sur_la_plateforme_Mattermost_dans_la_channel_'ENX_@_FR'.md\", \"Dialogue_du_13_December_2023_sur_la_plateforme_Mattermost_dans_la_channel_'ENX_@_FR'.md\", \"Dialogue_du_25_January_2024_sur_la_plateforme_Mattermost_dans_la_channel_'ENX_@_FR'.md\", \"Dialogue_du_25_April_2023_sur_la_plateforme_Mattermost_dans_la_channel_'ENX_@_FR'.md\", \"Dialogue_du_01_October_2021_sur_la_plateforme_Mattermost_dans_la_channel_'ENX_@_FR'.md\", \"Dialogue_du_04_August_2022_sur_la_plateforme_Mattermost_dans_la_channel_'ENX_@_FR'.md\", \"Dialogue_du_24_August_2023_sur_la_plateforme_Mattermost_dans_la_channel_'ENX_@_FR'.md\", \"Dialogue_du_08_September_2021_sur_la_plateforme_Mattermost_dans_la_channel_'ENX_@_FR'.md\", \"Dialogue_du_19_March_2021_sur_la_plateforme_Mattermost_dans_la_channel_'ENX_@_FR'.md\", \"Dialogue_du_20_December_2023_sur_la_plateforme_Mattermost_dans_la_channel_'ENX_@_FR'.md\", \"Dialogue_du_08_June_2023_sur_la_plateforme_Mattermost_dans_la_channel_'ENX_@_FR'.md\", \"Dialogue_du_09_December_2022_sur_la_plateforme_Mattermost_dans_la_channel_'ENX_@_FR'.md\", \"Dialogue_du_15_October_2021_sur_la_plateforme_Mattermost_dans_la_channel_'ENX_@_FR'.md\", \"Dialogue_du_29_March_2023_sur_la_plateforme_Mattermost_dans_la_channel_'ENX_@_FR'.md\", \"Dialogue_du_05_August_2022_sur_la_plateforme_Mattermost_dans_la_channel_'ENX_@_FR'.md\", \"Dialogue_du_09_January_2024_sur_la_plateforme_Mattermost_dans_la_channel_'ENX_@_FR'.md\", \"Dialogue_du_18_July_2023_sur_la_plateforme_Mattermost_dans_la_channel_'ENX_@_FR'.md\", \"Dialogue_du_24_May_2022_sur_la_plateforme_Mattermost_dans_la_channel_'ENX_@_FR'.md\", \"Dialogue_du_02_February_2021_sur_la_plateforme_Mattermost_dans_la_channel_'ENX_@_FR'.md\", \"Dialogue_du_11_April_2022_sur_la_plateforme_Mattermost_dans_la_channel_'ENX_@_FR'.md\", \"Dialogue_du_06_April_2021_sur_la_plateforme_Mattermost_dans_la_channel_'ENX_@_FR'.md\", \"Dialogue_du_09_June_2021_sur_la_plateforme_Mattermost_dans_la_channel_'ENX_@_FR'.md\", \"Dialogue_du_26_December_2023_sur_la_plateforme_Mattermost_dans_la_channel_'ENX_@_FR'.md\", \"Dialogue_du_11_June_2021_sur_la_plateforme_Mattermost_dans_la_channel_'ENX_@_FR'.md\", \"Dialogue_du_11_July_2022_sur_la_plateforme_Mattermost_dans_la_channel_'ENX_@_FR'.md\", \"Dialogue_du_21_September_2023_sur_la_plateforme_Mattermost_dans_la_channel_'ENX_@_FR'.md\", \"Dialogue_du_09_August_2023_sur_la_plateforme_Mattermost_dans_la_channel_'ENX_@_FR'.md\", \"Dialogue_du_29_February_2024_sur_la_plateforme_Mattermost_dans_la_channel_'ENX_@_FR'.md\", \"Dialogue_du_17_August_2022_sur_la_plateforme_Mattermost_dans_la_channel_'ENX_@_FR'.md\", \"Dialogue_du_22_December_2023_sur_la_plateforme_Mattermost_dans_la_channel_'ENX_@_FR'.md\", \"Dialogue_du_02_June_2023_sur_la_plateforme_Mattermost_dans_la_channel_'ENX_@_FR'.md\", \"Dialogue_du_11_May_2022_sur_la_plateforme_Mattermost_dans_la_channel_'ENX_@_FR'.md\", \"Dialogue_du_24_March_2023_sur_la_plateforme_Mattermost_dans_la_channel_'ENX_@_FR'.md\", \"Dialogue_du_29_January_2021_sur_la_plateforme_Mattermost_dans_la_channel_'ENX_@_FR'.md\", \"Dialogue_du_09_May_2023_sur_la_plateforme_Mattermost_dans_la_channel_'ENX_@_FR'.md\", \"Dialogue_du_31_August_2021_sur_la_plateforme_Mattermost_dans_la_channel_'ENX_@_FR'.md\", \"Dialogue_du_03_June_2021_sur_la_plateforme_Mattermost_dans_la_channel_'ENX_@_FR'.md\", \"Dialogue_du_08_April_2022_sur_la_plateforme_Mattermost_dans_la_channel_'ENX_@_FR'.md\", \"Dialogue_du_11_March_2022_sur_la_plateforme_Mattermost_dans_la_channel_'ENX_@_FR'.md\", \"Dialogue_du_18_November_2021_sur_la_plateforme_Mattermost_dans_la_channel_'ENX_@_FR'.md\", \"Dialogue_du_19_June_2023_sur_la_plateforme_Mattermost_dans_la_channel_'ENX_@_FR'.md\", \"Dialogue_du_29_April_2021_sur_la_plateforme_Mattermost_dans_la_channel_'ENX_@_FR'.md\", \"Dialogue_du_06_September_2021_sur_la_plateforme_Mattermost_dans_la_channel_'ENX_@_FR'.md\", \"Dialogue_du_23_May_2022_sur_la_plateforme_Mattermost_dans_la_channel_'ENX_@_FR'.md\", \"Dialogue_du_06_May_2021_sur_la_plateforme_Mattermost_dans_la_channel_'ENX_@_FR'.md\", \"Dialogue_du_10_August_2022_sur_la_plateforme_Mattermost_dans_la_channel_'ENX_@_FR'.md\", \"Dialogue_du_20_March_2024_sur_la_plateforme_Mattermost_dans_la_channel_'ENX_@_FR'.md\", \"Dialogue_du_02_November_2020_sur_la_plateforme_Mattermost_dans_la_channel_'ENX_@_FR'.md\", \"Dialogue_du_02_November_2021_sur_la_plateforme_Mattermost_dans_la_channel_'ENX_@_FR'.md\", \"Dialogue_du_08_February_2023_sur_la_plateforme_Mattermost_dans_la_channel_'ENX_@_FR'.md\", \"Dialogue_du_29_March_2021_sur_la_plateforme_Mattermost_dans_la_channel_'ENX_@_FR'.md\", \"Dialogue_du_23_December_2020_sur_la_plateforme_Mattermost_dans_la_channel_'ENX_@_FR'.md\", \"Dialogue_du_01_June_2022_sur_la_plateforme_Mattermost_dans_la_channel_'ENX_@_FR'.md\", \"Dialogue_du_22_July_2022_sur_la_plateforme_Mattermost_dans_la_channel_'ENX_@_FR'.md\", \"Dialogue_du_16_May_2022_sur_la_plateforme_Mattermost_dans_la_channel_'ENX_@_FR'.md\", \"Dialogue_du_10_July_2023_sur_la_plateforme_Mattermost_dans_la_channel_'ENX_@_FR'.md\", \"Dialogue_du_03_January_2022_sur_la_plateforme_Mattermost_dans_la_channel_'ENX_@_FR'.md\", \"Dialogue_du_01_December_2021_sur_la_plateforme_Mattermost_dans_la_channel_'ENX_@_FR'.md\", \"Dialogue_du_29_July_2021_sur_la_plateforme_Mattermost_dans_la_channel_'ENX_@_FR'.md\", \"Dialogue_du_10_April_2024_sur_la_plateforme_Mattermost_dans_la_channel_'ENX_@_FR'.md\", \"Dialogue_du_25_January_2023_sur_la_plateforme_Mattermost_dans_la_channel_'ENX_@_FR'.md\"]\n"
     ]
    },
    {
     "name": "stderr",
     "output_type": "stream",
     "text": [
      "100%|██████████| 750/750 [00:05<00:00, 133.06it/s]\n"
     ]
    }
   ],
   "source": [
    "# Load the document that is in the specified folder\n",
    "folder = 'data/mattermost/ENX @ FR/'  # Update the folder path as needed\n",
    "start_time = time.time()\n",
    "list_files = os.listdir(folder)\n",
    "print(list_files)\n",
    "\n",
    "# Sort the files alphabetically\n",
    "list_files.sort()\n",
    "\n",
    "# Generate full paths for the files\n",
    "list_paths = [os.path.join(folder, file) for file in list_files]\n",
    "\n",
    "total_chunks = []\n",
    "\n",
    "# Process each file\n",
    "for k in tqdm(range(len(list_paths))):\n",
    "    # Find the appropriate loader for the file\n",
    "    loader = find_loader(full_path=list_paths[k], name=list_files[k])\n",
    "    \n",
    "    # Load the text from the file\n",
    "    text = loader.load()[0].page_content\n",
    "    \n",
    "    # Split the text into chunks of 1500 words\n",
    "    list_chunks = [text[i:i+1500] for i in range(0, len(text), 1500)]\n",
    "    \n",
    "    # Reconstruct the langchain document objects from the chunks\n",
    "    list_docs = [Document(page_content=chunk) for chunk in list_chunks]\n",
    "    \n",
    "    # Extend the total chunks with the newly created document chunks\n",
    "    total_chunks.extend(list_docs)"
   ]
  },
  {
   "cell_type": "markdown",
   "metadata": {},
   "source": [
    "# Build the Knowledge Graph\n",
    "Use the processed document chunks to build a knowledge graph and index it for querying."
   ]
  },
  {
   "cell_type": "code",
   "execution_count": 5,
   "metadata": {},
   "outputs": [
    {
     "name": "stderr",
     "output_type": "stream",
     "text": [
      "Fetching 4 files: 100%|██████████| 4/4 [00:00<00:00, 25970.92it/s]\n",
      "Fetching 5 files: 100%|██████████| 5/5 [00:00<00:00, 85948.85it/s]\n",
      "Extracting knowledge relations:   0%|          | 0/831 [00:00<?, ?it/s]Asking to truncate to max_length but no maximum length is provided and the model has no predefined maximum length. Default to no truncation.\n",
      "Asking to truncate to max_length but no maximum length is provided and the model has no predefined maximum length. Default to no truncation.\n",
      "Extracting knowledge relations:   1%|          | 9/831 [00:01<01:59,  6.85it/s]"
     ]
    },
    {
     "name": "stdout",
     "output_type": "stream",
     "text": [
      "Error in triplet: ('juliette.spinnato ', ' works_with', 'juliette.spinnato') while merging subject with entity: juliettespinnato\n"
     ]
    },
    {
     "name": "stderr",
     "output_type": "stream",
     "text": [
      "Extracting knowledge relations:   2%|▏         | 17/831 [00:02<01:25,  9.54it/s]"
     ]
    },
    {
     "name": "stdout",
     "output_type": "stream",
     "text": [
      "Error in triplet: ('Myriam ', ' works_with', 'Myriam') while merging subject with entity: Myriam\n",
      "Error in triplet: ('Myriam ', ' works_for', 'Myriam') while merging subject with entity: Myriam\n"
     ]
    },
    {
     "name": "stderr",
     "output_type": "stream",
     "text": [
      "Extracting knowledge relations:   2%|▏         | 19/831 [00:03<01:47,  7.56it/s]"
     ]
    },
    {
     "name": "stdout",
     "output_type": "stream",
     "text": [
      "Error in triplet: ('NovaAid ', ' works_with', 'NovaAid') while merging subject with entity: NovaAid\n"
     ]
    },
    {
     "name": "stderr",
     "output_type": "stream",
     "text": [
      "Extracting knowledge relations:   2%|▏         | 20/831 [00:03<01:56,  6.97it/s]"
     ]
    }
   ],
   "source": [
    "# Import the KnowledgeGraphIndex\n",
    "kg_index = KnowledgeGraphIndex(disambiguate_threshold=60)\n",
    "\n",
    "# Build the knowledge graph from the document chunks\n",
    "db = kg_index.from_documents(documents=total_chunks, overwrite=True)\n",
    "\n",
    "# Retrieve the knowledge graph\n",
    "kg = kg_index.get_graph()\n",
    "\n",
    "# Print all existing nodes in the knowledge graph\n",
    "print(\"NODES:\", kg.nodes())"
   ]
  },
  {
   "cell_type": "markdown",
   "metadata": {},
   "source": [
    "# Perform Question Answering with the Knowledge Graph\n",
    "Perform a similarity search on the knowledge graph to find relevant documents and use a language model to answer a specific question based on the knowledge graph context."
   ]
  },
  {
   "cell_type": "code",
   "execution_count": null,
   "metadata": {},
   "outputs": [
    {
     "name": "stderr",
     "output_type": "stream",
     "text": [
      "Batches: 100%|██████████| 1/1 [00:00<00:00, 71.25it/s]"
     ]
    },
    {
     "name": "stdout",
     "output_type": "stream",
     "text": [
      "RELATED ENTITIES: ['alicemartzloff', 'femmes', 'discussions', 'Find a time', 'people', 'supports', 'womaninlotusposition', 'Assessment', 'lycéennes', 'éléments textuels']\n"
     ]
    },
    {
     "name": "stderr",
     "output_type": "stream",
     "text": [
      "\n"
     ]
    }
   ],
   "source": [
    "query = \"alice\"\n",
    "found_docs = db.similarity_search(query=query, k=10)\n",
    "\n",
    "related_entities = []\n",
    "for k in found_docs:\n",
    "    related_entities.append(k.page_content)\n",
    "\n",
    "print(\"RELATED ENTITIES:\", related_entities)\n",
    "    \n",
    "    \n",
    "\n",
    "# Display found documents\n",
    "# print(\"FOUND DOCS:\", found_docs)\n"
   ]
  },
  {
   "cell_type": "markdown",
   "metadata": {},
   "source": [
    "# Try entity disambiguation"
   ]
  },
  {
   "cell_type": "code",
   "execution_count": null,
   "metadata": {},
   "outputs": [],
   "source": [
    "from sentence_transformers import SentenceTransformer\n",
    "model = SentenceTransformer('sentence-transformers/all-mpnet-base-v2')\n",
    "from sklearn.metrics.pairwise import cosine_similarity"
   ]
  },
  {
   "cell_type": "code",
   "execution_count": null,
   "metadata": {},
   "outputs": [
    {
     "name": "stdout",
     "output_type": "stream",
     "text": [
      "0.8762475\n"
     ]
    }
   ],
   "source": [
    "\n",
    "\n",
    "def cosine_sim_entity(e1, e2):\n",
    "    \"\"\"\n",
    "    Compute cosine similarity between two entities embeddings.\n",
    "    \"\"\"\n",
    "    # Assuming `model` is defined elsewhere and has an `encode` method\n",
    "    e1_embedding = model.encode(e1,show_progress_bar=False).reshape(1, -1)  # Reshape to 2D array\n",
    "    e2_embedding = model.encode(e2,show_progress_bar=False).reshape(1, -1)  # Reshape to 2D array\n",
    "    \n",
    "    # Compute cosine similarity between e1 and e2 embeddings\n",
    "    return cosine_similarity(e1_embedding, e2_embedding)[0][0]\n",
    "\n",
    "\n",
    "print(cosine_sim_entity(\"Aziz Jedidi\", \"aziz.jedidi\"))"
   ]
  },
  {
   "cell_type": "code",
   "execution_count": null,
   "metadata": {},
   "outputs": [
    {
     "name": "stdout",
     "output_type": "stream",
     "text": [
      "RATIO between euranova france and euranova is 100\n",
      "COSINE SIMILARITY between euranova france and euranova is 0.6347387\n",
      "RATIO between euranova france and knowledgeeuranovaeu is 53\n",
      "COSINE SIMILARITY between euranova france and knowledgeeuranovaeu is 0.34978235\n",
      "RATIO between euranova france and researcheuranovaeucategorypublications is 42\n",
      "COSINE SIMILARITY between euranova france and researcheuranovaeucategorypublications is 0.19227621\n",
      "RATIO between euranova france and discussions is 23\n",
      "COSINE SIMILARITY between euranova france and discussions is 0.13835481\n",
      "RATIO between euranova france and Find a time is 38\n",
      "COSINE SIMILARITY between euranova france and Find a time is 0.07578041\n",
      "RATIO between euranova france and supports is 26\n",
      "COSINE SIMILARITY between euranova france and supports is 0.1380426\n",
      "RATIO between euranova france and http100131025000 is 0\n",
      "COSINE SIMILARITY between euranova france and http100131025000 is 0.16779056\n",
      "RATIO between euranova france and eu is 24\n",
      "COSINE SIMILARITY between euranova france and eu is 0.58447444\n",
      "RATIO between euranova france and éléments textuels is 27\n",
      "COSINE SIMILARITY between euranova france and éléments textuels is 0.20910329\n",
      "RATIO between euranova france and http524715095005 is 0\n",
      "COSINE SIMILARITY between euranova france and http524715095005 is 0.18421537\n"
     ]
    }
   ],
   "source": [
    "from thefuzz import fuzz\n",
    "\n",
    "entity=\"euranova france\"\n",
    "for k in related_entities:\n",
    "    ratio=fuzz.token_set_ratio(entity, k)\n",
    "    cosine_sim=cosine_sim_entity(entity, k)\n",
    "    print(\"RATIO between\", entity, \"and\", k, \"is\", ratio)\n",
    "    print(\"COSINE SIMILARITY between\", entity, \"and\", k, \"is\", cosine_sim)"
   ]
  },
  {
   "cell_type": "code",
   "execution_count": null,
   "metadata": {},
   "outputs": [
    {
     "name": "stdout",
     "output_type": "stream",
     "text": [
      "Final Prompt: Answer the following question: Qui sont les personnes avec qui DucTang Hoang travaille, donne la liste ? using the following knowledge graph context: ducthanghoang{'relation_list': [{'relation': 'workswith', 'linked_entity': 'screen'}, {'relation': 'includedin', 'linked_entity': 'SynoCli Network Tools'}, {'relation': 'workswith', 'linked_entity': 'ismailbachchar'}, {'relation': 'makesuseof', 'linked_entity': 'open space'}, {'relation': 'workswith', 'linked_entity': 'tristanschreiber'}, {'relation': 'includedin', 'linked_entity': 'bpost'}, {'relation': 'contributesto', 'linked_entity': 'ThorOdinFenrir'}, {'relation': 'workswith', 'linked_entity': 'nvidiasmi'}, {'relation': 'worksfor', 'linked_entity': 'mdp'}, {'relation': 'makesuseof', 'linked_entity': 'NVME'}, {'relation': 'makesuseof', 'linked_entity': 'home'}, {'relation': 'workswith', 'linked_entity': 'tmux'}, {'relation': 'worksfor', 'linked_entity': 'alikaraouzene'}, {'relation': 'makesuseof', 'linked_entity': 'Conventional Commits'}, {'relation': 'workswith', 'linked_entity': 'Sophie Ok'}, {'relation': 'workswith', 'linked_entity': 'Charles'}, {'relation': 'makesuseof', 'linked_entity': 'La Garde'}, {'relation': 'worksfor', 'linked_entity': 'computing power'}, {'relation': 'worksfor', 'linked_entity': 'Computer Lab'}, {'relation': 'makesuseof', 'linked_entity': 'VPN'}, {'relation': 'contributesto', 'linked_entity': 'Bitwarden'}, {'relation': 'workswith', 'linked_entity': 'guillaumestempfel'}, {'relation': 'contributesto', 'linked_entity': 'SLURM'}, {'relation': 'contributesto', 'linked_entity': 'visual studio'}, {'relation': 'workswith', 'linked_entity': 'alicemartzloff'}, {'relation': 'makesuseof', 'linked_entity': 'VRAM'}, {'relation': 'makesuseof', 'linked_entity': 'GPU'}, {'relation': 'worksfor', 'linked_entity': 'Airbus'}, {'relation': 'makesuseof', 'linked_entity': 'athena'}, {'relation': 'workswith', 'linked_entity': 'routeur'}, {'relation': 'contributesto', 'linked_entity': 'snipeit'}, {'relation': 'locatedin', 'linked_entity': 'bureaux'}, {'relation': 'workswith', 'linked_entity': 'Antoine'}, {'relation': 'workswith', 'linked_entity': 'Odin'}, {'relation': 'makesuseof', 'linked_entity': 'Fenrir'}, {'relation': 'includedin', 'linked_entity': 'channel'}, {'relation': 'worksfor', 'linked_entity': 'lucaspereira'}, {'relation': 'workswith', 'linked_entity': 'rudynoyelle'}, {'relation': 'makesuseof', 'linked_entity': 'ordis du cluster'}, {'relation': 'locatedin', 'linked_entity': 'dell'}, {'relation': 'includedin', 'linked_entity': 'Windows'}, {'relation': 'workswith', 'linked_entity': 'elsaschalk'}, {'relation': 'workswith', 'linked_entity': 'mnémosyne'}, {'relation': 'includedin', 'linked_entity': 'Myriam'}, {'relation': 'worksfor', 'linked_entity': 'ENX France'}, {'relation': 'workswith', 'linked_entity': 'robinmancini'}, {'relation': 'workswith', 'linked_entity': 'quentinferre'}, {'relation': 'workswith', 'linked_entity': 'vidar'}, {'relation': 'workswith', 'linked_entity': 'docker'}, {'relation': 'workswith', 'linked_entity': 'Quelquun'}, {'relation': 'workswith', 'linked_entity': 'Sophie Ok'}, {'relation': 'workswith', 'linked_entity': 'Charles'}, {'relation': 'makesuseof', 'linked_entity': 'La Garde'}, {'relation': 'contributesto', 'linked_entity': 'yasmineriahi'}, {'relation': 'workswith', 'linked_entity': 'guillaumestempfel'}, {'relation': 'workswith', 'linked_entity': 'alicemartzloff'}, {'relation': 'workswith', 'linked_entity': 'redaadardor'}, {'relation': 'contributesto', 'linked_entity': 'snipeit'}, {'relation': 'locatedin', 'linked_entity': 'bureaux'}, {'relation': 'workswith', 'linked_entity': 'Odin'}, {'relation': 'worksfor', 'linked_entity': 'lucaspereira'}, {'relation': 'workswith', 'linked_entity': 'rudynoyelle'}, {'relation': 'workswith', 'linked_entity': 'elsaschalk'}, {'relation': 'worksfor', 'linked_entity': 'elsa'}, {'relation': 'includedin', 'linked_entity': 'Myriam'}, {'relation': 'workswith', 'linked_entity': 'quentinferre'}], '_id': '523a701b82d149ceada064ecc8149d29', '_collection_name': 'qdrant_vectorstore'}\n",
      "ANSWER: Based on the provided knowledge graph, here are the people DucTang Hoang works with:\n",
      "\n",
      "* **screen** \n",
      "* **ismailbachchar**\n",
      "* **tristanschreiber**\n",
      "* **nvidiasmi**\n",
      "* **Sophie Ok**\n",
      "* **Charles**\n",
      "* **guillaumestempfel**\n",
      "* **alicemartzloff**\n",
      "* **Antoine**\n",
      "* **Odin**\n",
      "* **rudynoyelle**\n",
      "* **elsaschalk**\n",
      "* **robinmancini**\n",
      "* **quentinferre**\n",
      "* **vidar**\n",
      "* **Quelquun** \n",
      "* **redaadardor**\n",
      "\n",
      "\n",
      "\n",
      "Let me know if you have any other questions about this knowledge graph!\n"
     ]
    }
   ],
   "source": [
    "\n",
    "# Get the first document object\n",
    "doc = found_docs[0].page_content + str(found_docs[0].metadata)\n",
    "\n",
    "# Create final prompt using context and query\n",
    "final_prompt = \"Answer the following question: \" + query + \" using the following knowledge graph context: \" + doc\n",
    "\n",
    "# Display the final prompt\n",
    "print(\"Final Prompt:\", final_prompt)\n",
    "\n",
    "# Formulate the answer to the question using a language model\n",
    "answer = LLM_answer(prompt=final_prompt, model_name='gemma2', llm_provider='ollama', stream=False)\n",
    "\n",
    "# Display the answer\n",
    "print(\"ANSWER:\", answer)"
   ]
  },
  {
   "cell_type": "markdown",
   "metadata": {},
   "source": [
    "# (Optional) Extract Subgraph and Perform Cypher Query\n",
    "Optionally, demonstrate how to extract a subgraph based on specific entities and perform a Cypher query on the knowledge graph."
   ]
  },
  {
   "cell_type": "code",
   "execution_count": null,
   "metadata": {},
   "outputs": [
    {
     "ename": "NetworkXError",
     "evalue": "The node BioTech is not in the digraph.",
     "output_type": "error",
     "traceback": [
      "\u001b[0;31m---------------------------------------------------------------------------\u001b[0m",
      "\u001b[0;31mKeyError\u001b[0m                                  Traceback (most recent call last)",
      "File \u001b[0;32m~/.cache/pypoetry/virtualenvs/llms-rag-enx-6WuzWm9Q-py3.10/lib/python3.10/site-packages/networkx/classes/digraph.py:908\u001b[0m, in \u001b[0;36mDiGraph.successors\u001b[0;34m(self, n)\u001b[0m\n\u001b[1;32m    907\u001b[0m \u001b[38;5;28;01mtry\u001b[39;00m:\n\u001b[0;32m--> 908\u001b[0m     \u001b[38;5;28;01mreturn\u001b[39;00m \u001b[38;5;28miter\u001b[39m(\u001b[38;5;28;43mself\u001b[39;49m\u001b[38;5;241;43m.\u001b[39;49m\u001b[43m_succ\u001b[49m\u001b[43m[\u001b[49m\u001b[43mn\u001b[49m\u001b[43m]\u001b[49m)\n\u001b[1;32m    909\u001b[0m \u001b[38;5;28;01mexcept\u001b[39;00m \u001b[38;5;167;01mKeyError\u001b[39;00m \u001b[38;5;28;01mas\u001b[39;00m err:\n",
      "\u001b[0;31mKeyError\u001b[0m: 'BioTech'",
      "\nThe above exception was the direct cause of the following exception:\n",
      "\u001b[0;31mNetworkXError\u001b[0m                             Traceback (most recent call last)",
      "Cell \u001b[0;32mIn[6], line 3\u001b[0m\n\u001b[1;32m      1\u001b[0m \u001b[38;5;66;03m# Extract subgraph based on specific entities\u001b[39;00m\n\u001b[1;32m      2\u001b[0m entities_to_extract \u001b[38;5;241m=\u001b[39m [\u001b[38;5;124m'\u001b[39m\u001b[38;5;124mBioTech\u001b[39m\u001b[38;5;124m'\u001b[39m, \u001b[38;5;124m'\u001b[39m\u001b[38;5;124mEURA NOVA\u001b[39m\u001b[38;5;124m'\u001b[39m]\n\u001b[0;32m----> 3\u001b[0m subgraph \u001b[38;5;241m=\u001b[39m \u001b[43mkg_index\u001b[49m\u001b[38;5;241;43m.\u001b[39;49m\u001b[43mextract_subgraph\u001b[49m\u001b[43m(\u001b[49m\u001b[43mentities\u001b[49m\u001b[38;5;241;43m=\u001b[39;49m\u001b[43mentities_to_extract\u001b[49m\u001b[43m)\u001b[49m\n\u001b[1;32m      4\u001b[0m \u001b[38;5;28mprint\u001b[39m(\u001b[38;5;124m\"\u001b[39m\u001b[38;5;124mSUBGRAPH:\u001b[39m\u001b[38;5;124m\"\u001b[39m, subgraph)\n\u001b[1;32m      6\u001b[0m \u001b[38;5;66;03m# Perform a Cypher query on the knowledge graph\u001b[39;00m\n",
      "File \u001b[0;32m~/llms/src/knowledge_graph.py:1112\u001b[0m, in \u001b[0;36mKnowledgeGraphIndex.extract_subgraph\u001b[0;34m(self, entities)\u001b[0m\n\u001b[1;32m   1110\u001b[0m \u001b[38;5;66;03m# Add neighbors for each entity\u001b[39;00m\n\u001b[1;32m   1111\u001b[0m \u001b[38;5;28;01mfor\u001b[39;00m entity \u001b[38;5;129;01min\u001b[39;00m entities:\n\u001b[0;32m-> 1112\u001b[0m     subgraph_nodes\u001b[38;5;241m.\u001b[39mupdate(\u001b[43mgraph\u001b[49m\u001b[38;5;241;43m.\u001b[39;49m\u001b[43mneighbors\u001b[49m\u001b[43m(\u001b[49m\u001b[43mentity\u001b[49m\u001b[43m)\u001b[49m)\n\u001b[1;32m   1114\u001b[0m \u001b[38;5;66;03m# Extract the subgraph\u001b[39;00m\n\u001b[1;32m   1115\u001b[0m subgraph \u001b[38;5;241m=\u001b[39m graph\u001b[38;5;241m.\u001b[39msubgraph(subgraph_nodes)\n",
      "File \u001b[0;32m~/.cache/pypoetry/virtualenvs/llms-rag-enx-6WuzWm9Q-py3.10/lib/python3.10/site-packages/networkx/classes/digraph.py:910\u001b[0m, in \u001b[0;36mDiGraph.successors\u001b[0;34m(self, n)\u001b[0m\n\u001b[1;32m    908\u001b[0m     \u001b[38;5;28;01mreturn\u001b[39;00m \u001b[38;5;28miter\u001b[39m(\u001b[38;5;28mself\u001b[39m\u001b[38;5;241m.\u001b[39m_succ[n])\n\u001b[1;32m    909\u001b[0m \u001b[38;5;28;01mexcept\u001b[39;00m \u001b[38;5;167;01mKeyError\u001b[39;00m \u001b[38;5;28;01mas\u001b[39;00m err:\n\u001b[0;32m--> 910\u001b[0m     \u001b[38;5;28;01mraise\u001b[39;00m NetworkXError(\u001b[38;5;124mf\u001b[39m\u001b[38;5;124m\"\u001b[39m\u001b[38;5;124mThe node \u001b[39m\u001b[38;5;132;01m{\u001b[39;00mn\u001b[38;5;132;01m}\u001b[39;00m\u001b[38;5;124m is not in the digraph.\u001b[39m\u001b[38;5;124m\"\u001b[39m) \u001b[38;5;28;01mfrom\u001b[39;00m \u001b[38;5;21;01merr\u001b[39;00m\n",
      "\u001b[0;31mNetworkXError\u001b[0m: The node BioTech is not in the digraph."
     ]
    }
   ],
   "source": [
    "# Extract subgraph based on specific entities\n",
    "entities_to_extract = ['BioTech', 'EURA NOVA']\n",
    "subgraph = kg_index.extract_subgraph(entities=entities_to_extract)\n",
    "print(\"SUBGRAPH:\", subgraph)\n",
    "\n",
    "# Perform a Cypher query on the knowledge graph\n",
    "cypher_query = \"\"\"\n",
    "MATCH (A)<-[]-(B)\n",
    "WHERE A.entity_name = \"BioTech\"\n",
    "RETURN B.entity_name\n",
    "\"\"\"\n",
    "result = kg_index.query_graph(cypher_query)\n",
    "print(\"CYPHER QUERY RESULT:\", result)"
   ]
  }
 ],
 "metadata": {
  "kernelspec": {
   "display_name": "llms-rag-enx-6WuzWm9Q-py3.10",
   "language": "python",
   "name": "python3"
  },
  "language_info": {
   "codemirror_mode": {
    "name": "ipython",
    "version": 3
   },
   "file_extension": ".py",
   "mimetype": "text/x-python",
   "name": "python",
   "nbconvert_exporter": "python",
   "pygments_lexer": "ipython3",
   "version": "3.10.12"
  }
 },
 "nbformat": 4,
 "nbformat_minor": 2
}
